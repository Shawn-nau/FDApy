{
  "cells": [
    {
      "cell_type": "code",
      "execution_count": null,
      "metadata": {
        "collapsed": false
      },
      "outputs": [],
      "source": [
        "%matplotlib inline"
      ]
    },
    {
      "cell_type": "markdown",
      "metadata": {},
      "source": [
        "\nFunctional data simulation\n==========================\n\nThis notebook shows how to simulate functional data according with different\nbasis.\n"
      ]
    },
    {
      "cell_type": "code",
      "execution_count": null,
      "metadata": {
        "collapsed": false
      },
      "outputs": [],
      "source": [
        "# Author: Steven Golovkine <steven_golovkine@icloud.com>\n# License: MIT\n\n# shinx_gallery_thumbnail_number = 2\n\nimport matplotlib.pyplot as plt\nimport numpy as np\n\nfrom FDApy.basis import Basis, Brownian, basis_legendre, basis_wiener\nfrom FDApy.plot import plot"
      ]
    },
    {
      "cell_type": "markdown",
      "metadata": {},
      "source": [
        "We will define a Legendre polynomial basis using the method\n:func:`~FDApy.basis.basis_legendre`.\n\n\n"
      ]
    },
    {
      "cell_type": "code",
      "execution_count": null,
      "metadata": {
        "collapsed": false
      },
      "outputs": [],
      "source": [
        "argvals = np.linspace(-1, 1, 1000)\nLP = basis_legendre(K=5, argvals=argvals, norm=True)\n\n# Plot the basis\nfig, ax = plot(LP, main='Legendre basis', xlab='Sampling points')\nplt.show()"
      ]
    },
    {
      "cell_type": "markdown",
      "metadata": {},
      "source": [
        "Next, we will define a Wiener basis using the method\n:func:`~FDApy.basis.basis_wiener`.\n\n\n"
      ]
    },
    {
      "cell_type": "code",
      "execution_count": null,
      "metadata": {
        "collapsed": false
      },
      "outputs": [],
      "source": [
        "argvals = np.linspace(-1, 1, 1000)\nWP = basis_wiener(K=5, argvals=argvals, norm=True)\n\n# Plot the basis\nfig, ax = plot(WP, main='Wiener basis', xlab='Sampling points')\nplt.show()"
      ]
    },
    {
      "cell_type": "markdown",
      "metadata": {},
      "source": [
        "Now, we will simulate some curves data according to diverse basis with\ndifferent eigenvalues decay.\n\n\n"
      ]
    },
    {
      "cell_type": "code",
      "execution_count": null,
      "metadata": {
        "collapsed": false
      },
      "outputs": [],
      "source": [
        "# Legendre basis and exponential eigenvalues decay\nsim = Basis(N=100, M=50, basis_name='legendre', K=5,\n            eigenvalues='exponential', norm=True)\nsim.new()\n\n# Plot some simulations\nfig, ax = plot(sim.obs_, main='Simulation', xlab='Sampling points')\nplt.show()\n\n# Legendre basis and linear eigenvalues decay\nsim = Basis(N=100, M=50, basis_name='legendre', K=5,\n            eigenvalues='linear', norm=True)\nsim.new()\n\n# Plot some simulations\nfig, ax = plot(sim.obs_, main='Simulation', xlab='Sampling points')\nplt.show()\n\n# Wiener basis and Wiener eigenvalues decay\nsim = Basis(N=100, M=50, basis_name='wiener', K=5,\n            eigenvalues='wiener', norm=True)\nsim.new()\n\n# Plot some simulations\nfig, ax = plot(sim.obs_, main='Simulation', xlab='Sampling points')\nplt.show()\n\n# Wiener basis and user-set eigenvalues\nsim = Basis(N=100, M=50, basis_name='wiener', K=3,\n            eigenvalues=[100, 25, 5], norm=True)\nsim.new()\n\n# Plot some simulations\nfig, ax = plot(sim.obs_, main='Simulation', xlab='Sampling points')\nplt.show()"
      ]
    },
    {
      "cell_type": "markdown",
      "metadata": {},
      "source": [
        "We can also add some noise to the data.\n\nFirst, we consider homoscedastic noise. Thus, we add realizations of the\nrandom variable $\\varepsilon \\sim \\mathcal{N}(0, \\sigma^2)$ to the\ndata.\n\n\n"
      ]
    },
    {
      "cell_type": "code",
      "execution_count": null,
      "metadata": {
        "collapsed": false
      },
      "outputs": [],
      "source": [
        "# Add some noise to the simulation.\nsim.add_noise(5)\n\n# Plot the noisy simulations\nfig, ax = plot(sim.noisy_obs_,\n               main='Noisy simulation',\n               xlab='Sampling points')\nplt.show()"
      ]
    },
    {
      "cell_type": "markdown",
      "metadata": {},
      "source": [
        "Second, we may add heteroscedatic noise to the data. In this case, the\nquantity added to the data is defined as realisations of the random variable\n$\\varepsilon \\sim \\mathcal{N}(0, \\sigma^2(t))$.\n\n\n"
      ]
    },
    {
      "cell_type": "code",
      "execution_count": null,
      "metadata": {
        "collapsed": false
      },
      "outputs": [],
      "source": [
        "# Add some heteroscedastic noise to the simulation\nsim.add_noise(sd_function=lambda x: np.sqrt(np.abs(x) + 1))\n\n# Plot the heteroscedastic noisy simulations\nfig, ax = plot(sim.noisy_obs_,\n               main='Noisy heteroscedastic simulation',\n               xlab='Sampling points')\nplt.show()"
      ]
    },
    {
      "cell_type": "markdown",
      "metadata": {},
      "source": [
        "We can also simulate Brownian motion and some of processes derived from it,\nsuch as Geometric Brownian motion and Fractional Brownian motion.\n\n\n"
      ]
    },
    {
      "cell_type": "code",
      "execution_count": null,
      "metadata": {
        "collapsed": false
      },
      "outputs": [],
      "source": [
        "# Simulate some standard brownian motions.\nsim = Brownian(N=100, M=50, brownian_type='standard')\nsim.new(x0=0)\n\n# Plot some simulations\nfig, ax = plot(sim.obs_,\n               main='Standard Brownian motion',\n               xlab='Sampling points')\nplt.show()\n\n# Simulate some geometric brownian motions.\nsim = Brownian(N=100, M=50, brownian_type='geometric')\nsim.new(x0=1, mu=5, sigma=1)\n\n# Plot some simulations\nfig, ax = plot(sim.obs_,\n               main='Geometric Brownian motion',\n               xlab='Sampling points')\nplt.show()\n\n# Simulate some fractional brownian motions.\nsim = Brownian(N=100, M=50, brownian_type='fractional')\nsim.new(hurst=0.7)\n\n# Plot some simulations\nfig, ax = plot(sim.obs_,\n               main='Fractional Brownian motion',\n               xlab='Sampling points')\nplt.show()"
      ]
    }
  ],
  "metadata": {
    "kernelspec": {
      "display_name": "Python 3",
      "language": "python",
      "name": "python3"
    },
    "language_info": {
      "codemirror_mode": {
        "name": "ipython",
        "version": 3
      },
      "file_extension": ".py",
      "mimetype": "text/x-python",
      "name": "python",
      "nbconvert_exporter": "python",
      "pygments_lexer": "ipython3",
      "version": "3.7.0"
    }
  },
  "nbformat": 4,
  "nbformat_minor": 0
}