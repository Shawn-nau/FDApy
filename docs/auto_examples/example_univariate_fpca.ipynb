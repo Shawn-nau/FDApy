{
  "cells": [
    {
      "cell_type": "code",
      "execution_count": null,
      "metadata": {
        "collapsed": false
      },
      "outputs": [],
      "source": [
        "%matplotlib inline"
      ]
    },
    {
      "cell_type": "markdown",
      "metadata": {},
      "source": [
        "\nUnivariate Functional Principal Components Analysis\n===================================================\n\nThis notebook shows how to perform an univariate functional principal\ncomponents analysis on an example dataset.\n"
      ]
    },
    {
      "cell_type": "code",
      "execution_count": null,
      "metadata": {
        "collapsed": false
      },
      "outputs": [],
      "source": [
        "# Author: Steven Golovkine <steven_golovkine@icloud.com>\n# License: MIT\n\n# shinx_gallery_thumbnail_number = 2\n\nimport matplotlib.pyplot as plt\nimport numpy as np\nimport pandas as pd\n\nfrom FDApy.univariate_functional import UnivariateFunctionalData\nfrom FDApy.fpca import UFPCA\nfrom FDApy.plot import plot"
      ]
    },
    {
      "cell_type": "markdown",
      "metadata": {},
      "source": [
        "Load the data into Pandas dataframe\n\n"
      ]
    },
    {
      "cell_type": "code",
      "execution_count": null,
      "metadata": {
        "collapsed": false
      },
      "outputs": [],
      "source": [
        "temperature = pd.read_csv('./data/canadian_temperature_daily.csv',\n                          index_col=0)\n\n# Create univariate functional data for the daily temperature data.\nargvals = pd.factorize(temperature.columns)[0]\nvalues = np.array(temperature) / 4\ndailyTemp = UnivariateFunctionalData(argvals, values)"
      ]
    },
    {
      "cell_type": "markdown",
      "metadata": {},
      "source": [
        "Perform a univariate functional PCA and explore the results.\n\n"
      ]
    },
    {
      "cell_type": "code",
      "execution_count": null,
      "metadata": {
        "collapsed": false
      },
      "outputs": [],
      "source": [
        "# Perform a univariate FPCA on dailyTemp.\nfpca = UFPCA(n_components=0.99)\nfpca.fit(dailyTemp, method='GAM', kernel='gaussian', bandwidth=50)\n\n# Plot the results of the FPCA (eigenfunctions)\nfor idx, eigenfunction in enumerate(fpca.eigenfunctions):\n    plt.plot(eigenfunction, label=' '.join(['Eigenfunction', str(idx + 1)]))\nplt.xlab('Days')\nplt.title('Eigenfunctions')\nplt.legend()\nplt.show()"
      ]
    },
    {
      "cell_type": "markdown",
      "metadata": {},
      "source": [
        "Compute the scores of the dailyTemp data into the eigenfunctions basis using\nnumerical integration.\n\n"
      ]
    },
    {
      "cell_type": "code",
      "execution_count": null,
      "metadata": {
        "collapsed": false
      },
      "outputs": [],
      "source": [
        "# Compute scores\ndailyTemp_proj = fpca.transform(dailyTemp, method='NumInt')\n\n# Plot the projection of the data onto the eigenfunctions\npd.plotting.scatter_matrix(pd.DataFrame(dailyTemp_proj), diagonal='kde')\nplt.show()"
      ]
    },
    {
      "cell_type": "markdown",
      "metadata": {},
      "source": [
        "Then, we can test if the reconstruction of the data is good.\n\n"
      ]
    },
    {
      "cell_type": "code",
      "execution_count": null,
      "metadata": {
        "collapsed": false
      },
      "outputs": [],
      "source": [
        "# Test if the reconstruction is good.\ndailyTemp_reconst = fpca.inverse_transform(dailyTemp_proj)\n\n# Plot the reconstructed curves\nfig, ax = plot(dailyTemp_reconst,\n               main='Daily temperature',\n               xlab='Day',\n               ylab='Temperature')\nplt.show()"
      ]
    }
  ],
  "metadata": {
    "kernelspec": {
      "display_name": "Python 3",
      "language": "python",
      "name": "python3"
    },
    "language_info": {
      "codemirror_mode": {
        "name": "ipython",
        "version": 3
      },
      "file_extension": ".py",
      "mimetype": "text/x-python",
      "name": "python",
      "nbconvert_exporter": "python",
      "pygments_lexer": "ipython3",
      "version": "3.7.0"
    }
  },
  "nbformat": 4,
  "nbformat_minor": 0
}