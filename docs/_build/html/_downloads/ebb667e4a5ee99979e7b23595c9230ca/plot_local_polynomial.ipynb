{
  "cells": [
    {
      "cell_type": "code",
      "execution_count": null,
      "metadata": {
        "collapsed": false
      },
      "outputs": [],
      "source": [
        "%matplotlib inline"
      ]
    },
    {
      "cell_type": "markdown",
      "metadata": {},
      "source": [
        "\nLocal Polynomial Regression\n===========================\n\nThis notebook shows how to perform a local polynomial regression on\none and two-dimensional data.\n"
      ]
    },
    {
      "cell_type": "code",
      "execution_count": null,
      "metadata": {
        "collapsed": false
      },
      "outputs": [],
      "source": [
        "# Author: Steven Golovkine <steven_golovkine@icloud.com>\n# License: MIT\n\n# shinx_gallery_thumbnail_number = 2\n\nimport matplotlib.pyplot as plt\nimport numpy as np\n\nfrom FDApy.local_polynomial import LocalPolynomial"
      ]
    },
    {
      "cell_type": "markdown",
      "metadata": {},
      "source": [
        "We generate some one-dimensional data to perform local polynomial smoothing.\n\n\n"
      ]
    },
    {
      "cell_type": "code",
      "execution_count": null,
      "metadata": {
        "collapsed": false
      },
      "outputs": [],
      "source": [
        "X = np.random.normal(0, 1, 100)\nY = 2 * np.sin(X) + np.random.normal(0, 0.25, 100)\nY_true = 2 * np.sin(np.linspace(-2, 2, 200))"
      ]
    },
    {
      "cell_type": "markdown",
      "metadata": {},
      "source": [
        "Fit local polynomials\n\n\n"
      ]
    },
    {
      "cell_type": "code",
      "execution_count": null,
      "metadata": {
        "collapsed": false
      },
      "outputs": [],
      "source": [
        "# Fit local polynomials\nlp = LocalPolynomial(kernel=\"epanechnikov\", bandwidth=2, degree=2)\nlp.fit(X, Y)\n\n# Plot the results\nplt.scatter(X, Y, alpha=0.5, color='blue', label='Noisy')\nplt.scatter(np.sort(X), lp.X_fit_, color='red', label='Estimated')\nplt.plot(np.linspace(-2, 2, 200), Y_true, 'green', label='True')\nplt.legend()"
      ]
    },
    {
      "cell_type": "markdown",
      "metadata": {},
      "source": [
        "Estimate the curve on a regular grid.\n\n"
      ]
    },
    {
      "cell_type": "code",
      "execution_count": null,
      "metadata": {
        "collapsed": false
      },
      "outputs": [],
      "source": [
        "# Estimation on a grid\ny_pred = lp.predict(np.linspace(-2, 2, 500))\n\n# Plot the results\nplt.scatter(X, Y, alpha=0.5, color='blue', label='noisy')\nplt.scatter(np.linspace(-2, 2, 500), y_pred, color='red', label='Prediction')\nplt.plot(np.linspace(-2, 2, 200), Y_true, color='green', label='True')\nplt.legend()"
      ]
    },
    {
      "cell_type": "markdown",
      "metadata": {},
      "source": [
        "We will now do the same using two-dimensional data.\n\n\n"
      ]
    },
    {
      "cell_type": "code",
      "execution_count": null,
      "metadata": {
        "collapsed": false
      },
      "outputs": [],
      "source": [
        "X = np.random.randn(2, 100)\nY = -1 * np.sin(X[0]) + 0.5 * np.cos(X[1]) + 0.2 * np.random.randn(100)\nX0 = np.mgrid[-10:10:1, -10:10:1] / 10\nX0 = np.vstack([X0[0].ravel(), X0[1].ravel()])"
      ]
    },
    {
      "cell_type": "markdown",
      "metadata": {},
      "source": [
        "Fit local polynomials\n\n\n"
      ]
    },
    {
      "cell_type": "code",
      "execution_count": null,
      "metadata": {
        "collapsed": false
      },
      "outputs": [],
      "source": [
        "# Fit local polynomials\nlp = LocalPolynomial(kernel=\"epanechnikov\", bandwidth=2, degree=1)\nlp.fit(X, Y)\n\n# Plot the results\nfig = plt.figure()\nax = fig.add_subplot(111, projection='3d')\n_ = ax.scatter(X[0], X[1], Y)\n_ = ax.scatter(X[0], X[1], lp.X_fit_, color='red')"
      ]
    },
    {
      "cell_type": "markdown",
      "metadata": {},
      "source": [
        "Estimate the curve on a regular surface.\n\n"
      ]
    },
    {
      "cell_type": "code",
      "execution_count": null,
      "metadata": {
        "collapsed": false
      },
      "outputs": [],
      "source": [
        "# Estimation on a grid\ny_pred = lp.predict(X0)\n\n# Plot the results\nfig = plt.figure()\nax = fig.add_subplot(111, projection='3d')\n_ = ax.scatter(X[0], X[1], Y)\n_ = ax.scatter(X0[0], X0[1], y_pred, color='red')"
      ]
    }
  ],
  "metadata": {
    "kernelspec": {
      "display_name": "Python 3",
      "language": "python",
      "name": "python3"
    },
    "language_info": {
      "codemirror_mode": {
        "name": "ipython",
        "version": 3
      },
      "file_extension": ".py",
      "mimetype": "text/x-python",
      "name": "python",
      "nbconvert_exporter": "python",
      "pygments_lexer": "ipython3",
      "version": "3.7.0"
    }
  },
  "nbformat": 4,
  "nbformat_minor": 0
}