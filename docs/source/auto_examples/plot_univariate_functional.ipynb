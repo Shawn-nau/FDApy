{
  "cells": [
    {
      "cell_type": "code",
      "execution_count": null,
      "metadata": {
        "collapsed": false
      },
      "outputs": [],
      "source": [
        "%matplotlib inline"
      ]
    },
    {
      "cell_type": "markdown",
      "metadata": {},
      "source": [
        "\nSmooth Univariate Functional data\n=================================\n\nThis notebook shows how to smooth univariate functional data.\n"
      ]
    },
    {
      "cell_type": "code",
      "execution_count": null,
      "metadata": {
        "collapsed": false
      },
      "outputs": [],
      "source": [
        "# Author: Steven Golovkine <steven_golovkine@icloud.com>\n# License: MIT\n\n# shinx_gallery_thumbnail_number = 2\n\nimport matplotlib.pyplot as plt\n\nfrom FDApy.basis import Brownian\nfrom FDApy.plot import plot"
      ]
    },
    {
      "cell_type": "markdown",
      "metadata": {},
      "source": [
        "Generate some data as Fractional Brownian motion.\n\n\n"
      ]
    },
    {
      "cell_type": "code",
      "execution_count": null,
      "metadata": {
        "collapsed": false
      },
      "outputs": [],
      "source": [
        "# Simulate some fractional brownian motions.\nsim = Brownian(N=1000, M=300, brownian_type='fractional')\nsim.new(x0=0, hurst=0.5)\nsim.add_noise(0.05)\n\n# Plot some simulations\nfig, ax = plot(sim.noisy_obs_,\n               main='Fractional Brownian motion',\n               xlab='Sampling points')"
      ]
    },
    {
      "cell_type": "markdown",
      "metadata": {},
      "source": [
        "Now, we will smooth the data according the methodology from (add ref).\n\n\n"
      ]
    },
    {
      "cell_type": "code",
      "execution_count": null,
      "metadata": {
        "collapsed": false
      },
      "outputs": [],
      "source": [
        "# Smooth the data\nsim_smooth = sim.noisy_obs_.smooth(t0=0.5, k0=14)\n\n# Plot of the smoothing data\nfig, ax = plot(sim_smooth,\n               main='Fractional Brownian motion smoothed',\n               xlab='Sampling points')"
      ]
    },
    {
      "cell_type": "markdown",
      "metadata": {},
      "source": [
        "In order to look more precisely at the smoothing results, let's plot one\nindividual curve, along its noisy and smoothed version.\n\n\n"
      ]
    },
    {
      "cell_type": "code",
      "execution_count": null,
      "metadata": {
        "collapsed": false
      },
      "outputs": [],
      "source": [
        "# Plot individual curves\nidx = 5\nfig, ax = plt.subplots(1, 1)\nax.scatter(sim.noisy_obs_.argvals[0],\n           sim.noisy_obs_.values[idx, :],\n           alpha=0.5, label='Noisy')\nax.plot(sim.obs_.argvals[0], sim.obs_.values[idx, :],\n        color='red', label='True')\nax.plot(sim_smooth.argvals[idx], sim_smooth.values[idx],\n        color='green', label='Smooth')\nax.set_xlabel('Sampling points')\nax.legend()"
      ]
    }
  ],
  "metadata": {
    "kernelspec": {
      "display_name": "Python 3",
      "language": "python",
      "name": "python3"
    },
    "language_info": {
      "codemirror_mode": {
        "name": "ipython",
        "version": 3
      },
      "file_extension": ".py",
      "mimetype": "text/x-python",
      "name": "python",
      "nbconvert_exporter": "python",
      "pygments_lexer": "ipython3",
      "version": "3.7.0"
    }
  },
  "nbformat": 4,
  "nbformat_minor": 0
}