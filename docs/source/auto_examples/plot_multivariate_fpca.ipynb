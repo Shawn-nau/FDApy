{
  "cells": [
    {
      "cell_type": "code",
      "execution_count": null,
      "metadata": {
        "collapsed": false
      },
      "outputs": [],
      "source": [
        "%matplotlib inline"
      ]
    },
    {
      "cell_type": "markdown",
      "metadata": {},
      "source": [
        "\nMultivariate Functional Principal Components Analysis\n=====================================================\n\nThis notebook shows how to perform an multivariate functional principal\ncomponents analysis on an example dataset.\n"
      ]
    },
    {
      "cell_type": "code",
      "execution_count": null,
      "metadata": {
        "collapsed": false
      },
      "outputs": [],
      "source": [
        "# Author: Steven Golovkine <steven_golovkine@icloud.com>\n# License: MIT\n\n# shinx_gallery_thumbnail_number = 2\n\nimport matplotlib.pyplot as plt\nimport numpy as np\nimport pandas as pd\n\nfrom FDApy.univariate_functional import UnivariateFunctionalData\nfrom FDApy.multivariate_functional import MultivariateFunctionalData\nfrom FDApy.fpca import MFPCA\nfrom FDApy.plot import plot"
      ]
    },
    {
      "cell_type": "markdown",
      "metadata": {},
      "source": [
        "Load the data into Pandas dataframe\n\n"
      ]
    },
    {
      "cell_type": "code",
      "execution_count": null,
      "metadata": {
        "collapsed": false
      },
      "outputs": [],
      "source": [
        "precipitation = pd.read_csv('./data/canadian_precipitation_monthly.csv',\n                            index_col=0)\ntemperature = pd.read_csv('./data/canadian_temperature_daily.csv',\n                          index_col=0)"
      ]
    },
    {
      "cell_type": "markdown",
      "metadata": {},
      "source": [
        "Create univariate functional data for the precipitation and temperature\ndataset. Then, we will combine them to form a multivariate functional\ndataset.\n\n"
      ]
    },
    {
      "cell_type": "code",
      "execution_count": null,
      "metadata": {
        "collapsed": false
      },
      "outputs": [],
      "source": [
        "# Create univariate functional data for the precipitation data\nargvals = pd.factorize(precipitation.columns)[0]\nvalues = np.array(precipitation)\nmonthlyPrec = UnivariateFunctionalData(argvals, values)\n\n# Create univariate functional data for the daily temperature data.\nargvals = pd.factorize(temperature.columns)[0]\nvalues = np.array(temperature) / 4\ndailyTemp = UnivariateFunctionalData(argvals, values)\n\n# Create multivariate functional data for the Canadian weather data.\ncanadWeather = MultivariateFunctionalData([dailyTemp, monthlyPrec])"
      ]
    },
    {
      "cell_type": "markdown",
      "metadata": {},
      "source": [
        "Estimate the covariance for each of the components of the multivariate\nfunctional data.\n\n"
      ]
    },
    {
      "cell_type": "code",
      "execution_count": null,
      "metadata": {
        "collapsed": false
      },
      "outputs": [],
      "source": [
        "monthlyPrec.covariance()\ndailyTemp.covariance()"
      ]
    },
    {
      "cell_type": "markdown",
      "metadata": {},
      "source": [
        "Perform a multivariate functional PCA and explore the results.\n\n"
      ]
    },
    {
      "cell_type": "code",
      "execution_count": null,
      "metadata": {
        "collapsed": false
      },
      "outputs": [],
      "source": [
        "# Perform multivariate FPCA\nmfpca = MFPCA(n_components=[0.99, 0.95], method='NumInt')\nmfpca.fit(canadWeather)\n\n# Plot the results of the FPCA (eigenfunctions)\nplt.figure(figsize=(10, 5))\nplt.subplot(1, 2, 1)\nplt.plot(mfpca.basis_[0])\nplt.title('Eigenfunctions for dailyTemp')\nplt.subplot(1, 2, 2)\nplt.plot(mfpca.basis_[1])\nplt.title('Eigenfunctions for monthlyPrec')\nplt.tight_layout()"
      ]
    },
    {
      "cell_type": "markdown",
      "metadata": {},
      "source": [
        "Compute the scores of the dailyTemp data into the eigenfunctions basis using\nnumerical integration.\n\n"
      ]
    },
    {
      "cell_type": "code",
      "execution_count": null,
      "metadata": {
        "collapsed": false
      },
      "outputs": [],
      "source": [
        "# Compute the scores\ncanadWeather_proj = mfpca.transform(canadWeather)\n\n# Plot the projection of the data onto the eigenfunctions\npd.plotting.scatter_matrix(pd.DataFrame(canadWeather_proj), diagonal='kde')"
      ]
    },
    {
      "cell_type": "markdown",
      "metadata": {},
      "source": [
        "Then, we can test if the reconstruction of the data is good.\n\n"
      ]
    },
    {
      "cell_type": "code",
      "execution_count": null,
      "metadata": {
        "collapsed": false
      },
      "outputs": [],
      "source": [
        "# Test if the reconstruction is good.\ncanadWheather_reconst = mfpca.inverse_transform(canadWeather_proj)\n\n# Plot the reconstructed curves\nfig, ax = plot(canadWheather_reconst,\n               main=['Daily temperature', 'Monthly precipitation'],\n               xlab=['Day', 'Month'],\n               ylab=['Temperature', 'Precipitation'])"
      ]
    }
  ],
  "metadata": {
    "kernelspec": {
      "display_name": "Python 3",
      "language": "python",
      "name": "python3"
    },
    "language_info": {
      "codemirror_mode": {
        "name": "ipython",
        "version": 3
      },
      "file_extension": ".py",
      "mimetype": "text/x-python",
      "name": "python",
      "nbconvert_exporter": "python",
      "pygments_lexer": "ipython3",
      "version": "3.7.0"
    }
  },
  "nbformat": 4,
  "nbformat_minor": 0
}