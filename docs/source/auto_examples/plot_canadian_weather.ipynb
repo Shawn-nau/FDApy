{
  "cells": [
    {
      "cell_type": "code",
      "execution_count": null,
      "metadata": {
        "collapsed": false
      },
      "outputs": [],
      "source": [
        "%matplotlib inline"
      ]
    },
    {
      "cell_type": "markdown",
      "metadata": {},
      "source": [
        "\nCanadian weather analysis\n=========================\n\nThis notebook shows how to deal with univariate and multivariate functional\ndata by analyzing the canadian weather dataset.\n"
      ]
    },
    {
      "cell_type": "code",
      "execution_count": null,
      "metadata": {
        "collapsed": false
      },
      "outputs": [],
      "source": [
        "# Author: Steven Golovkine <steven_golovkine@icloud.com>\n# License: MIT\n\n# shinx_gallery_thumbnail_number = 2\n\nimport matplotlib.pyplot as plt\nimport numpy as np\nimport pandas as pd\n\nfrom FDApy.univariate_functional import UnivariateFunctionalData\nfrom FDApy.multivariate_functional import MultivariateFunctionalData\nfrom FDApy.plot import plot"
      ]
    },
    {
      "cell_type": "markdown",
      "metadata": {},
      "source": [
        "Load the data into Pandas dataframe\n\n"
      ]
    },
    {
      "cell_type": "code",
      "execution_count": null,
      "metadata": {
        "collapsed": false
      },
      "outputs": [],
      "source": [
        "precipitation = pd.read_csv('./data/canadian_precipitation_monthly.csv',\n                            index_col=0)\ntemperature = pd.read_csv('./data/canadian_temperature_daily.csv',\n                          index_col=0)"
      ]
    },
    {
      "cell_type": "markdown",
      "metadata": {},
      "source": [
        "Create univariate functional data for the precipitation and temperature\ndataset. Then, we will combine them to form a multivariate functional\ndataset.\n\n"
      ]
    },
    {
      "cell_type": "code",
      "execution_count": null,
      "metadata": {
        "collapsed": false
      },
      "outputs": [],
      "source": [
        "# Create univariate functional data for the precipitation data\nargvals = pd.factorize(precipitation.columns)[0]\nvalues = np.array(precipitation)\nmonthlyPrec = UnivariateFunctionalData(argvals, values)\n\n# Create univariate functional data for the daily temperature data.\nargvals = pd.factorize(temperature.columns)[0]\nvalues = np.array(temperature) / 4\ndailyTemp = UnivariateFunctionalData(argvals, values)\n\n# Create multivariate functional data for the Canadian weather data.\ncanadWeather = MultivariateFunctionalData([dailyTemp, monthlyPrec])"
      ]
    },
    {
      "cell_type": "markdown",
      "metadata": {},
      "source": [
        "Print out an univariate functional data object.\n\n"
      ]
    },
    {
      "cell_type": "code",
      "execution_count": null,
      "metadata": {
        "collapsed": false
      },
      "outputs": [],
      "source": [
        "# Print univariate functional data\nprint(dailyTemp)"
      ]
    },
    {
      "cell_type": "markdown",
      "metadata": {},
      "source": [
        "Print out a multivariate functional data object.\n\n"
      ]
    },
    {
      "cell_type": "code",
      "execution_count": null,
      "metadata": {
        "collapsed": false
      },
      "outputs": [],
      "source": [
        "# Print multivariate functional data\nprint(canadWeather)"
      ]
    },
    {
      "cell_type": "markdown",
      "metadata": {},
      "source": [
        "We can plot the data.\n\n"
      ]
    },
    {
      "cell_type": "code",
      "execution_count": null,
      "metadata": {
        "collapsed": false
      },
      "outputs": [],
      "source": [
        "# Plot the multivariate functional data\nfig, ax = plot(canadWeather,\n               main=['Daily temperature', 'Monthly precipitation'],\n               xlab=['Day', 'Month'],\n               ylab=['Temperature', 'Precipitation'])"
      ]
    },
    {
      "cell_type": "markdown",
      "metadata": {},
      "source": [
        "The attributs of the univariate functional data classes can easily be\naccessed.\n\n"
      ]
    },
    {
      "cell_type": "markdown",
      "metadata": {},
      "source": [
        "The sampling points of the data can easily be accessed.\n\n"
      ]
    },
    {
      "cell_type": "code",
      "execution_count": null,
      "metadata": {
        "collapsed": false
      },
      "outputs": [],
      "source": [
        "# Accessing the argvals of the object\nprint(monthlyPrec.argvals)"
      ]
    },
    {
      "cell_type": "markdown",
      "metadata": {},
      "source": [
        "The number of observations within the data are obtained using the function\n:func:`~FDApy.univariate_functional.UnivariateFunctional.nObs`.\n\n"
      ]
    },
    {
      "cell_type": "code",
      "execution_count": null,
      "metadata": {
        "collapsed": false
      },
      "outputs": [],
      "source": [
        "# Get the number of observations for the object\nprint(monthlyPrec.nObs())"
      ]
    },
    {
      "cell_type": "markdown",
      "metadata": {},
      "source": [
        "The number of sampling points per observation is given by the function\n:func:`~FDApy.univariate_functional.UnivariateFunctional.nObsPoint`.\n\n"
      ]
    },
    {
      "cell_type": "code",
      "execution_count": null,
      "metadata": {
        "collapsed": false
      },
      "outputs": [],
      "source": [
        "# Retrieve the number of sampling points for the object\nprint(monthlyPrec.nObsPoint())"
      ]
    },
    {
      "cell_type": "markdown",
      "metadata": {},
      "source": [
        "The dimension of the data is given by the function\n:func:`~FDApy.univariate_functional.UnivariateFunctional.dimension`.\n\n"
      ]
    },
    {
      "cell_type": "code",
      "execution_count": null,
      "metadata": {
        "collapsed": false
      },
      "outputs": [],
      "source": [
        "# Get the dimension of the domain of the observations\nprint(monthlyPrec.dimension())"
      ]
    },
    {
      "cell_type": "markdown",
      "metadata": {},
      "source": [
        "The extraction of observations is also easily done.\n\n"
      ]
    },
    {
      "cell_type": "code",
      "execution_count": null,
      "metadata": {
        "collapsed": false
      },
      "outputs": [],
      "source": [
        "# Extract observations from the object\nprint(monthlyPrec[3:6])"
      ]
    },
    {
      "cell_type": "markdown",
      "metadata": {},
      "source": [
        "In a same way, the attributs of the multivariate functional data classes\ncan also be easily accessed.\n\n"
      ]
    },
    {
      "cell_type": "code",
      "execution_count": null,
      "metadata": {
        "collapsed": false
      },
      "outputs": [],
      "source": [
        "# Number of sampling points for the object\ncanadWeather.nObsPoint()\n\n# Extract functions from MultivariateFunctionalData\nprint(canadWeather[0])"
      ]
    },
    {
      "cell_type": "markdown",
      "metadata": {},
      "source": [
        "Compute the mean function for an univariate functional data object.\n\n"
      ]
    },
    {
      "cell_type": "code",
      "execution_count": null,
      "metadata": {
        "collapsed": false
      },
      "outputs": [],
      "source": [
        "# Mean function of the monthly precipitation\nmonthlyPrec.mean()\n\n# Plot the mean function of the monthly precipation\nfig, ax = plot(monthlyPrec.mean_,\n               main='Mean monthly precipitation',\n               xlab='Month',\n               ylab='Precipitation (mm)')"
      ]
    },
    {
      "cell_type": "markdown",
      "metadata": {},
      "source": [
        "Compute the covariance surface for an univariate functional data object.\n\n"
      ]
    },
    {
      "cell_type": "code",
      "execution_count": null,
      "metadata": {
        "collapsed": false
      },
      "outputs": [],
      "source": [
        "# Covariance function of the monthly precipitation\nmonthlyPrec.covariance()\n\n# Plot the covariance function of the monthly precipitation\nfig, ax = plot(monthlyPrec.covariance_,\n               main='Covariance monthly precipitation',\n               xlab='Month',\n               ylab='Month')"
      ]
    },
    {
      "cell_type": "markdown",
      "metadata": {},
      "source": [
        "We can also compute a smoothed estimate of the mean function and the\ncovariance surface.\n\n"
      ]
    },
    {
      "cell_type": "code",
      "execution_count": null,
      "metadata": {
        "collapsed": false
      },
      "outputs": [],
      "source": [
        "# Smoothing covariance of the daily temperature\ndailyTemp.covariance(smooth=True, method='GAM', bandwidth=20)\n\n# Plot the smooth covariance function of the daily temperature\nfig, ax = plot(dailyTemp.covariance_,\n               main='Covariance daily temperature',\n               xlab='Day',\n               ylab='Day')"
      ]
    },
    {
      "cell_type": "markdown",
      "metadata": {},
      "source": [
        "Instead of directly computing an estimation of the mean and covariance by\nsmoothing, we can smooth all the curve in an individual way.\n\n"
      ]
    },
    {
      "cell_type": "code",
      "execution_count": null,
      "metadata": {
        "collapsed": false
      },
      "outputs": [],
      "source": [
        "# Smooth the data\ndailyTempSmooth = dailyTemp.smooth(t0=200, k0=17,\n                                   points=dailyTemp.argvals[0],\n                                   kernel='gaussian')\n\n# Plot the smooth data\nfig, ax = plot(dailyTempSmooth,\n               main='Daily temperature',\n               xlab='Day',\n               ylab='Temperature')"
      ]
    }
  ],
  "metadata": {
    "kernelspec": {
      "display_name": "Python 3",
      "language": "python",
      "name": "python3"
    },
    "language_info": {
      "codemirror_mode": {
        "name": "ipython",
        "version": 3
      },
      "file_extension": ".py",
      "mimetype": "text/x-python",
      "name": "python",
      "nbconvert_exporter": "python",
      "pygments_lexer": "ipython3",
      "version": "3.7.0"
    }
  },
  "nbformat": 4,
  "nbformat_minor": 0
}