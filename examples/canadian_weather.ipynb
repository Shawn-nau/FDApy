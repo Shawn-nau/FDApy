{
 "cells": [
  {
   "cell_type": "code",
   "execution_count": 1,
   "metadata": {},
   "outputs": [],
   "source": [
    "import itertools\n",
    "import numpy as np\n",
    "import pandas as pd\n",
    "import os\n",
    "import sklearn.decomposition\n",
    "import sys\n",
    "\n",
    "CURRENT_DIR = os.getcwd()\n",
    "PARENT_DIR = os.path.dirname(CURRENT_DIR)\n",
    "sys.path.append(PARENT_DIR)\n",
    "\n",
    "from FDApy.univariate_functional import UnivariateFunctionalData\n",
    "from FDApy.irregular_functional import IrregularFunctionalData\n",
    "from FDApy.multivariate_functional import MultivariateFunctionalData\n",
    "from FDApy.fpca import UFPCA, MFPCA\n",
    "from FDApy.local_polynomial import LocalPolynomial"
   ]
  },
  {
   "cell_type": "code",
   "execution_count": 2,
   "metadata": {},
   "outputs": [],
   "source": [
    "# Load the data into a Pandas Dataframes\n",
    "precipitation = pd.read_csv(''.join([CURRENT_DIR, '/canadian_precipitation_monthly.csv']), index_col=0)\n",
    "temperature = pd.read_csv(''.join([CURRENT_DIR, '/canadian_temperature_daily.csv']), index_col=0)"
   ]
  },
  {
   "cell_type": "code",
   "execution_count": 3,
   "metadata": {
    "scrolled": true
   },
   "outputs": [
    {
     "name": "stdout",
     "output_type": "stream",
     "text": [
      "argvals is converted into one dimensional list!\n"
     ]
    }
   ],
   "source": [
    "# Create univariate functional data for the precipitation data\n",
    "argvals = tuple(pd.factorize(precipitation.columns)[0])\n",
    "values = np.array(precipitation)\n",
    "monthlyPrec = UnivariateFunctionalData(argvals, values)"
   ]
  },
  {
   "cell_type": "code",
   "execution_count": 4,
   "metadata": {
    "scrolled": true
   },
   "outputs": [
    {
     "name": "stdout",
     "output_type": "stream",
     "text": [
      "argvals is converted into one dimensional list!\n"
     ]
    }
   ],
   "source": [
    "# Create univariate functional data for the daily temperature data.\n",
    "argvals = tuple(pd.factorize(temperature.columns)[0])\n",
    "values = np.array(temperature)\n",
    "dailyTemp = UnivariateFunctionalData(argvals, values)"
   ]
  },
  {
   "cell_type": "code",
   "execution_count": 5,
   "metadata": {},
   "outputs": [],
   "source": [
    "# Create multivariate functional data for the Canadian weather data.\n",
    "canadWeather = MultivariateFunctionalData([dailyTemp, monthlyPrec])"
   ]
  },
  {
   "cell_type": "code",
   "execution_count": 6,
   "metadata": {},
   "outputs": [
    {
     "data": {
      "text/plain": [
       "Univariate Functional data objects with 35 observations of 1-dimensional support\n",
       "argvals:\n",
       "\t0, 1, ... , 364\t(365 sampling points)\n",
       "values:\n",
       "\tarray of size (35, 365)"
      ]
     },
     "execution_count": 6,
     "metadata": {},
     "output_type": "execute_result"
    }
   ],
   "source": [
    "# Print example of a UnivariateFunctionalData\n",
    "dailyTemp"
   ]
  },
  {
   "cell_type": "code",
   "execution_count": 7,
   "metadata": {},
   "outputs": [
    {
     "data": {
      "text/plain": [
       "Multivariate Functional data objects with 2 funtions:\n",
       "- Univariate Functional data objects with 35 observations of 1-dimensional support\n",
       "argvals:\n",
       "\t0, 1, ... , 364\t(365 sampling points)\n",
       "values:\n",
       "\tarray of size (35, 365)\n",
       "- Univariate Functional data objects with 35 observations of 1-dimensional support\n",
       "argvals:\n",
       "\t0, 1, ... , 11\t(12 sampling points)\n",
       "values:\n",
       "\tarray of size (35, 12)"
      ]
     },
     "execution_count": 7,
     "metadata": {},
     "output_type": "execute_result"
    }
   ],
   "source": [
    "# Print example of a MultivariateFunctionalData\n",
    "canadWeather"
   ]
  },
  {
   "cell_type": "code",
   "execution_count": 8,
   "metadata": {},
   "outputs": [
    {
     "data": {
      "text/plain": [
       "[(0, 1, 2, 3, 4, 5, 6, 7, 8, 9, 10, 11)]"
      ]
     },
     "execution_count": 8,
     "metadata": {},
     "output_type": "execute_result"
    }
   ],
   "source": [
    "# Accessing the attribut of the classes\n",
    "monthlyPrec.argvals"
   ]
  },
  {
   "cell_type": "code",
   "execution_count": 9,
   "metadata": {},
   "outputs": [
    {
     "data": {
      "text/plain": [
       "35"
      ]
     },
     "execution_count": 9,
     "metadata": {},
     "output_type": "execute_result"
    }
   ],
   "source": [
    "# Number of observations for an object\n",
    "monthlyPrec.nObs()"
   ]
  },
  {
   "cell_type": "code",
   "execution_count": 10,
   "metadata": {},
   "outputs": [
    {
     "data": {
      "text/plain": [
       "[[365], [12]]"
      ]
     },
     "execution_count": 10,
     "metadata": {},
     "output_type": "execute_result"
    }
   ],
   "source": [
    "# Number of sampling points for an object\n",
    "canadWeather.nObsPoint()"
   ]
  },
  {
   "cell_type": "code",
   "execution_count": 11,
   "metadata": {},
   "outputs": [
    {
     "data": {
      "text/plain": [
       "1"
      ]
     },
     "execution_count": 11,
     "metadata": {},
     "output_type": "execute_result"
    }
   ],
   "source": [
    "# Dimension of the domain of observations\n",
    "dailyTemp.dimension()"
   ]
  },
  {
   "cell_type": "code",
   "execution_count": 12,
   "metadata": {},
   "outputs": [
    {
     "data": {
      "text/plain": [
       "Univariate Functional data objects with 3 observations of 1-dimensional support\n",
       "argvals:\n",
       "\t0, 1, ... , 364\t(365 sampling points)\n",
       "values:\n",
       "\tarray of size (3, 365)"
      ]
     },
     "execution_count": 12,
     "metadata": {},
     "output_type": "execute_result"
    }
   ],
   "source": [
    "# Extract observations from UnivariateFunctionalData\n",
    "dailyTemp[3:6]"
   ]
  },
  {
   "cell_type": "code",
   "execution_count": 13,
   "metadata": {},
   "outputs": [
    {
     "name": "stdout",
     "output_type": "stream",
     "text": [
      "Convert data into one dimensional list.\n"
     ]
    },
    {
     "data": {
      "text/plain": [
       "Multivariate Functional data objects with 1 funtions:\n",
       "- Univariate Functional data objects with 35 observations of 1-dimensional support\n",
       "argvals:\n",
       "\t0, 1, ... , 364\t(365 sampling points)\n",
       "values:\n",
       "\tarray of size (35, 365)"
      ]
     },
     "execution_count": 13,
     "metadata": {},
     "output_type": "execute_result"
    }
   ],
   "source": [
    "# Extract functions from MultivariateFunctionalData\n",
    "canadWeather[0]"
   ]
  },
  {
   "cell_type": "code",
   "execution_count": 14,
   "metadata": {},
   "outputs": [
    {
     "data": {
      "text/plain": [
       "Irregular Functional data objects with 35 observations of 1-dimensional support\n",
       "argvals:\n",
       "\tValues in 0 ... 364.\n",
       "values:\n",
       "\tValues in -34.8 ... 22.8.\n",
       "There are 365 - 365 sampling points per observation."
      ]
     },
     "execution_count": 14,
     "metadata": {},
     "output_type": "execute_result"
    }
   ],
   "source": [
    "# Convert UnivariateFunctionalData into IrregularFunctionalData.\n",
    "dailyTemp.asIrregularFunctionalData()"
   ]
  },
  {
   "cell_type": "code",
   "execution_count": 15,
   "metadata": {},
   "outputs": [
    {
     "data": {
      "text/plain": [
       "Multivariate Functional data objects with 1 funtions:\n",
       "- Univariate Functional data objects with 35 observations of 1-dimensional support\n",
       "argvals:\n",
       "\t0, 1, ... , 11\t(12 sampling points)\n",
       "values:\n",
       "\tarray of size (35, 12)"
      ]
     },
     "execution_count": 15,
     "metadata": {},
     "output_type": "execute_result"
    }
   ],
   "source": [
    "# Convert UnivariateFunctionalData into MultivariateFunctionalData.\n",
    "monthlyPrec.asMultivariateFunctionalData()"
   ]
  },
  {
   "cell_type": "code",
   "execution_count": 16,
   "metadata": {},
   "outputs": [],
   "source": [
    "# Add another function to a MultivariateFunctionalData\n",
    "#canadWeather.add(dailyTemp)"
   ]
  },
  {
   "cell_type": "code",
   "execution_count": 17,
   "metadata": {},
   "outputs": [
    {
     "data": {
      "text/plain": [
       "<FDApy.fpca.UFPCA at 0x7f31fdc3feb8>"
      ]
     },
     "execution_count": 17,
     "metadata": {},
     "output_type": "execute_result"
    }
   ],
   "source": [
    "# Perform a FPCA.\n",
    "fpca = UFPCA(n_components=0.99)\n",
    "fpca.fit(dailyTemp)"
   ]
  },
  {
   "cell_type": "code",
   "execution_count": 18,
   "metadata": {
    "scrolled": true
   },
   "outputs": [],
   "source": [
    "# Compute the scores of the dailyTemp data into the eigenfunctions basis.\n",
    "dailyTemp_proj = fpca.transform(dailyTemp)"
   ]
  },
  {
   "cell_type": "code",
   "execution_count": 19,
   "metadata": {},
   "outputs": [
    {
     "data": {
      "text/plain": [
       "<FDApy.fpca.MFPCA at 0x7f31fdc6b0b8>"
      ]
     },
     "execution_count": 19,
     "metadata": {},
     "output_type": "execute_result"
    }
   ],
   "source": [
    "# Perform multivariate FPCA\n",
    "mfpca = MFPCA(n_components=0.99)\n",
    "mfpca.fit(canadWeather)"
   ]
  },
  {
   "cell_type": "code",
   "execution_count": 22,
   "metadata": {
    "scrolled": true
   },
   "outputs": [
    {
     "data": {
      "text/plain": [
       "array([[-132.48456476,  -77.77545745],\n",
       "       [-168.70048174, -104.18429566],\n",
       "       [-158.04106556,  -91.94306115],\n",
       "       [-138.11521537, -119.10523175],\n",
       "       [-178.85501317,  -85.81799073],\n",
       "       [-197.52881828,  -86.30724967],\n",
       "       [-230.15348486,  113.73939051],\n",
       "       [-226.77058301,  -43.89060779],\n",
       "       [-227.52720778,  -27.62067118],\n",
       "       [-215.58484702,  -62.89517604],\n",
       "       [-203.31663119,  -64.97725181],\n",
       "       [-214.72641541, -102.09562926],\n",
       "       [-217.7462841 ,  -95.86563278],\n",
       "       [-189.01091483, -124.69534457],\n",
       "       [-188.94381897, -125.75862082],\n",
       "       [-214.16869348,  -31.74833332],\n",
       "       [-254.03313189,  -29.40850019],\n",
       "       [-256.06586462,   21.37826315],\n",
       "       [-248.52060364,  155.588718  ],\n",
       "       [-237.33150184,  -35.42407872],\n",
       "       [-248.78093538,    4.42121652],\n",
       "       [-279.99680732,   85.20772067],\n",
       "       [-204.59795704,  -28.19707921],\n",
       "       [-173.13073977,  -62.46331304],\n",
       "       [-171.68687645, -153.96001441],\n",
       "       [-104.03209185, -181.15849127],\n",
       "       [ -94.13519436, -175.33677259],\n",
       "       [-164.37807951,  -61.18925621],\n",
       "       [ -85.24647563, -126.51887537],\n",
       "       [-206.25794353,   31.48034747],\n",
       "       [-288.12776944,  111.02587691],\n",
       "       [-290.83775436,  118.14660272],\n",
       "       [-220.4930802 ,  203.22406462],\n",
       "       [-283.25639502,  200.33597446],\n",
       "       [-228.01385788,  335.96733541]])"
      ]
     },
     "execution_count": 22,
     "metadata": {},
     "output_type": "execute_result"
    }
   ],
   "source": [
    "# Compute the scores of the canadWeather data into the multivariate eigenfunctions basis.\n",
    "mfpca.transform(canadWeather)"
   ]
  },
  {
   "cell_type": "code",
   "execution_count": 20,
   "metadata": {},
   "outputs": [],
   "source": [
    "# Smooth the data\n",
    "#points = tuple(i / 10 for i in range(min(dailyTemp.argvals[0]), 10*(max(dailyTemp.argvals[0]) + 1), 1))\n",
    "#dailyTempSmooth = dailyTemp.smooth(points, bandwith=5)"
   ]
  }
 ],
 "metadata": {
  "kernelspec": {
   "display_name": "Python 3",
   "language": "python",
   "name": "python3"
  },
  "language_info": {
   "codemirror_mode": {
    "name": "ipython",
    "version": 3
   },
   "file_extension": ".py",
   "mimetype": "text/x-python",
   "name": "python",
   "nbconvert_exporter": "python",
   "pygments_lexer": "ipython3",
   "version": "3.7.0"
  }
 },
 "nbformat": 4,
 "nbformat_minor": 2
}
