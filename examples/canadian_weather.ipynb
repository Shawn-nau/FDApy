{
 "cells": [
  {
   "cell_type": "code",
   "execution_count": 1,
   "metadata": {},
   "outputs": [],
   "source": [
    "import itertools\n",
    "import numpy as np\n",
    "import pandas as pd\n",
    "import os\n",
    "import sklearn.decomposition\n",
    "import sys\n",
    "\n",
    "CURRENT_DIR = os.getcwd()\n",
    "PARENT_DIR = os.path.dirname(CURRENT_DIR)\n",
    "sys.path.append(PARENT_DIR)\n",
    "\n",
    "from FDApy.univariate_functional import UnivariateFunctionalData\n",
    "from FDApy.irregular_functional import IrregularFunctionalData\n",
    "from FDApy.multivariate_functional import MultivariateFunctionalData\n",
    "from FDApy.fpca import UFPCA\n",
    "from FDApy.local_polynomial import LocalPolynomial"
   ]
  },
  {
   "cell_type": "code",
   "execution_count": 2,
   "metadata": {},
   "outputs": [],
   "source": [
    "# Load the data into a Pandas Dataframes\n",
    "precipitation = pd.read_csv(''.join([CURRENT_DIR, '/canadian_precipitation_monthly.csv']), index_col=0)\n",
    "temperature = pd.read_csv(''.join([CURRENT_DIR, '/canadian_temperature_daily.csv']), index_col=0)"
   ]
  },
  {
   "cell_type": "code",
   "execution_count": 3,
   "metadata": {
    "scrolled": true
   },
   "outputs": [
    {
     "name": "stdout",
     "output_type": "stream",
     "text": [
      "argvals is converted into one dimensional list!\n"
     ]
    }
   ],
   "source": [
    "# Create univariate functional data for the precipitation data\n",
    "argvals = tuple(pd.factorize(precipitation.columns)[0])\n",
    "values = np.array(precipitation)\n",
    "monthlyPrec = UnivariateFunctionalData(argvals, values)"
   ]
  },
  {
   "cell_type": "code",
   "execution_count": 4,
   "metadata": {
    "scrolled": true
   },
   "outputs": [
    {
     "name": "stdout",
     "output_type": "stream",
     "text": [
      "argvals is converted into one dimensional list!\n"
     ]
    }
   ],
   "source": [
    "# Create univariate functional data for the daily temperature data.\n",
    "argvals = tuple(pd.factorize(temperature.columns)[0])\n",
    "values = np.array(temperature)\n",
    "dailyTemp = UnivariateFunctionalData(argvals, values)"
   ]
  },
  {
   "cell_type": "code",
   "execution_count": 5,
   "metadata": {},
   "outputs": [],
   "source": [
    "# Create multivariate functional data for the Canadian weather data.\n",
    "canadWeather = MultivariateFunctionalData([dailyTemp, monthlyPrec])"
   ]
  },
  {
   "cell_type": "code",
   "execution_count": 6,
   "metadata": {},
   "outputs": [
    {
     "data": {
      "text/plain": [
       "Univariate Functional data objects with 35 observations of 1-dimensional support\n",
       "argvals:\n",
       "\t0, 1, ... , 364\t(365 sampling points)\n",
       "values:\n",
       "\tarray of size (35, 365)"
      ]
     },
     "execution_count": 6,
     "metadata": {},
     "output_type": "execute_result"
    }
   ],
   "source": [
    "# Print example of a UnivariateFunctionalData\n",
    "dailyTemp"
   ]
  },
  {
   "cell_type": "code",
   "execution_count": 7,
   "metadata": {},
   "outputs": [
    {
     "data": {
      "text/plain": [
       "Multivariate Functional data objects with 2 funtions:\n",
       "- Univariate Functional data objects with 35 observations of 1-dimensional support\n",
       "argvals:\n",
       "\t0, 1, ... , 364\t(365 sampling points)\n",
       "values:\n",
       "\tarray of size (35, 365)\n",
       "- Univariate Functional data objects with 35 observations of 1-dimensional support\n",
       "argvals:\n",
       "\t0, 1, ... , 11\t(12 sampling points)\n",
       "values:\n",
       "\tarray of size (35, 12)"
      ]
     },
     "execution_count": 7,
     "metadata": {},
     "output_type": "execute_result"
    }
   ],
   "source": [
    "# Print example of a MultivariateFunctionalData\n",
    "canadWeather"
   ]
  },
  {
   "cell_type": "code",
   "execution_count": 8,
   "metadata": {},
   "outputs": [
    {
     "data": {
      "text/plain": [
       "[(0, 1, 2, 3, 4, 5, 6, 7, 8, 9, 10, 11)]"
      ]
     },
     "execution_count": 8,
     "metadata": {},
     "output_type": "execute_result"
    }
   ],
   "source": [
    "# Accessing the attribut of the classes\n",
    "monthlyPrec.argvals"
   ]
  },
  {
   "cell_type": "code",
   "execution_count": 9,
   "metadata": {},
   "outputs": [
    {
     "data": {
      "text/plain": [
       "35"
      ]
     },
     "execution_count": 9,
     "metadata": {},
     "output_type": "execute_result"
    }
   ],
   "source": [
    "# Number of observations for an object\n",
    "monthlyPrec.nObs()"
   ]
  },
  {
   "cell_type": "code",
   "execution_count": 10,
   "metadata": {},
   "outputs": [
    {
     "data": {
      "text/plain": [
       "[[365], [12]]"
      ]
     },
     "execution_count": 10,
     "metadata": {},
     "output_type": "execute_result"
    }
   ],
   "source": [
    "# Number of sampling points for an object\n",
    "canadWeather.nObsPoint()"
   ]
  },
  {
   "cell_type": "code",
   "execution_count": 11,
   "metadata": {},
   "outputs": [
    {
     "data": {
      "text/plain": [
       "1"
      ]
     },
     "execution_count": 11,
     "metadata": {},
     "output_type": "execute_result"
    }
   ],
   "source": [
    "# Dimension of the domain of observations\n",
    "dailyTemp.dimension()"
   ]
  },
  {
   "cell_type": "code",
   "execution_count": 12,
   "metadata": {},
   "outputs": [
    {
     "data": {
      "text/plain": [
       "Univariate Functional data objects with 3 observations of 1-dimensional support\n",
       "argvals:\n",
       "\t0, 1, ... , 364\t(365 sampling points)\n",
       "values:\n",
       "\tarray of size (3, 365)"
      ]
     },
     "execution_count": 12,
     "metadata": {},
     "output_type": "execute_result"
    }
   ],
   "source": [
    "# Extract observations from UnivariateFunctionalData\n",
    "dailyTemp[3:6]"
   ]
  },
  {
   "cell_type": "code",
   "execution_count": 13,
   "metadata": {},
   "outputs": [
    {
     "name": "stdout",
     "output_type": "stream",
     "text": [
      "Convert data into one dimensional list.\n"
     ]
    },
    {
     "data": {
      "text/plain": [
       "Multivariate Functional data objects with 1 funtions:\n",
       "- Univariate Functional data objects with 35 observations of 1-dimensional support\n",
       "argvals:\n",
       "\t0, 1, ... , 364\t(365 sampling points)\n",
       "values:\n",
       "\tarray of size (35, 365)"
      ]
     },
     "execution_count": 13,
     "metadata": {},
     "output_type": "execute_result"
    }
   ],
   "source": [
    "# Extract functions from MultivariateFunctionalData\n",
    "canadWeather[0]"
   ]
  },
  {
   "cell_type": "code",
   "execution_count": 14,
   "metadata": {},
   "outputs": [
    {
     "data": {
      "text/plain": [
       "Irregular Functional data objects with 35 observations of 1-dimensional support\n",
       "argvals:\n",
       "\tValues in 0 ... 364.\n",
       "values:\n",
       "\tValues in -34.8 ... 22.8.\n",
       "There are 365 - 365 sampling points per observation."
      ]
     },
     "execution_count": 14,
     "metadata": {},
     "output_type": "execute_result"
    }
   ],
   "source": [
    "# Convert UnivariateFunctionalData into IrregularFunctionalData.\n",
    "dailyTemp.asIrregularFunctionalData()"
   ]
  },
  {
   "cell_type": "code",
   "execution_count": 15,
   "metadata": {},
   "outputs": [
    {
     "data": {
      "text/plain": [
       "Multivariate Functional data objects with 1 funtions:\n",
       "- Univariate Functional data objects with 35 observations of 1-dimensional support\n",
       "argvals:\n",
       "\t0, 1, ... , 11\t(12 sampling points)\n",
       "values:\n",
       "\tarray of size (35, 12)"
      ]
     },
     "execution_count": 15,
     "metadata": {},
     "output_type": "execute_result"
    }
   ],
   "source": [
    "# Convert UnivariateFunctionalData into MultivariateFunctionalData.\n",
    "monthlyPrec.asMultivariateFunctionalData()"
   ]
  },
  {
   "cell_type": "code",
   "execution_count": 16,
   "metadata": {},
   "outputs": [
    {
     "data": {
      "text/plain": [
       "Multivariate Functional data objects with 3 funtions:\n",
       "- Univariate Functional data objects with 35 observations of 1-dimensional support\n",
       "argvals:\n",
       "\t0, 1, ... , 364\t(365 sampling points)\n",
       "values:\n",
       "\tarray of size (35, 365)\n",
       "- Univariate Functional data objects with 35 observations of 1-dimensional support\n",
       "argvals:\n",
       "\t0, 1, ... , 11\t(12 sampling points)\n",
       "values:\n",
       "\tarray of size (35, 12)\n",
       "- Univariate Functional data objects with 35 observations of 1-dimensional support\n",
       "argvals:\n",
       "\t0, 1, ... , 364\t(365 sampling points)\n",
       "values:\n",
       "\tarray of size (35, 365)"
      ]
     },
     "execution_count": 16,
     "metadata": {},
     "output_type": "execute_result"
    }
   ],
   "source": [
    "# Add another function to a MultivariateFunctionalData\n",
    "canadWeather.add(dailyTemp)"
   ]
  },
  {
   "cell_type": "code",
   "execution_count": 17,
   "metadata": {},
   "outputs": [
    {
     "data": {
      "text/plain": [
       "<FDApy.fpca.UFPCA at 0x7f3d2a9dbc50>"
      ]
     },
     "execution_count": 17,
     "metadata": {},
     "output_type": "execute_result"
    }
   ],
   "source": [
    "# Perform a FPCA.\n",
    "fpca = UFPCA(n_components=0.99)\n",
    "fpca.fit(dailyTemp)"
   ]
  },
  {
   "cell_type": "code",
   "execution_count": 33,
   "metadata": {},
   "outputs": [],
   "source": [
    "lp = LocalPolynomial(bandwith=5)"
   ]
  },
  {
   "cell_type": "code",
   "execution_count": 30,
   "metadata": {},
   "outputs": [
    {
     "data": {
      "text/plain": [
       "[0, 1, 2, 3, 4, 5, 6, 7, 8, 9, 10, 11]"
      ]
     },
     "execution_count": 30,
     "metadata": {},
     "output_type": "execute_result"
    }
   ],
   "source": [
    "[i for i in itertools.chain.from_iterable(monthlyPrec[0].argvals)]"
   ]
  },
  {
   "cell_type": "code",
   "execution_count": 35,
   "metadata": {},
   "outputs": [
    {
     "data": {
      "text/plain": [
       "[4.651612903225809,\n",
       " 4.73571428571429,\n",
       " 4.23548387096774,\n",
       " 3.61666666666667,\n",
       " 3.25161290322581,\n",
       " 3.27,\n",
       " 2.65161290322581,\n",
       " 3.82258064516129,\n",
       " 4.12666666666667,\n",
       " 4.90967741935484,\n",
       " 4.7833333333333306,\n",
       " 4.68064516129032]"
      ]
     },
     "execution_count": 35,
     "metadata": {},
     "output_type": "execute_result"
    }
   ],
   "source": [
    "[i for i in itertools.chain.from_iterable(monthlyPrec[0].values)]"
   ]
  },
  {
   "cell_type": "code",
   "execution_count": 36,
   "metadata": {},
   "outputs": [
    {
     "data": {
      "text/plain": [
       "<FDApy.local_polynomial.LocalPolynomial at 0x7f3d288f8160>"
      ]
     },
     "execution_count": 36,
     "metadata": {},
     "output_type": "execute_result"
    }
   ],
   "source": [
    "lp.fit([i for i in itertools.chain.from_iterable(monthlyPrec[0].argvals)], [i for i in itertools.chain.from_iterable(monthlyPrec[0].values)])"
   ]
  },
  {
   "cell_type": "code",
   "execution_count": 21,
   "metadata": {},
   "outputs": [
    {
     "name": "stdout",
     "output_type": "stream",
     "text": [
      "[[4.6516129  4.73571429 4.23548387 3.61666667 3.2516129  3.27\n",
      "  2.6516129  3.82258065 4.12666667 4.90967742 4.78333333 4.68064516]]\n",
      "[[4.63225806 4.14642857 4.13548387 4.01       3.52903226 3.12666667\n",
      "  3.02258065 3.40322581 3.20333333 4.12258065 5.14       5.36451613]]\n",
      "[[4.76451613 4.44642857 4.42258065 4.07666667 3.18064516 2.97666667\n",
      "  2.75483871 3.11612903 3.50666667 4.5516129  5.19333333 5.50967742]]\n",
      "[[4.02258065 3.63928571 3.30967742 3.37333333 3.09354839 3.04666667\n",
      "  2.63870968 2.78064516 2.95333333 3.50967742 4.51666667 4.64193548]]\n",
      "[[3.42903226 3.23214286 3.02903226 2.99333333 3.10645161 3.02\n",
      "  2.65806452 2.99354839 3.09       3.66129032 4.03       4.25806452]]\n",
      "[[3.06774194 2.88214286 3.00645161 2.78666667 3.02903226 2.95\n",
      "  2.68709677 3.14516129 3.02333333 3.13870968 3.61333333 3.73225806]]\n",
      "[[1.79032258 1.26785714 1.39032258 1.67       1.60967742 2.39\n",
      "  3.20322581 2.88387097 3.11333333 3.03870968 2.26666667 1.6483871 ]]\n",
      "[[1.9        1.74285714 1.58387097 1.47       2.47419355 2.92\n",
      "  3.61612903 3.         3.29       2.30322581 2.45666667 2.66129032]]\n",
      "[[1.96129032 1.71785714 1.71612903 1.78       2.57741935 3.02666667\n",
      "  3.76129032 3.26451613 3.25666667 2.56451613 2.53       2.39677419]]\n",
      "[[2.93225806 2.53928571 2.71290323 2.60333333 3.36451613 3.69666667\n",
      "  3.89677419 3.82580645 4.07333333 3.16774194 3.48333333 3.38387097]]\n",
      "[[2.37096774 2.16428571 2.45806452 2.58333333 2.99032258 3.42333333\n",
      "  3.72903226 4.15806452 3.36333333 2.92903226 3.24       2.99032258]]\n",
      "[[2.15483871 2.00714286 2.18387097 2.53666667 2.18064516 2.79\n",
      "  2.79354839 3.17741935 2.88666667 2.4516129  3.08666667 2.65806452]]\n",
      "[[1.92903226 2.07857143 2.15483871 2.43333333 2.45806452 2.6\n",
      "  2.91612903 2.94193548 2.71333333 2.36451613 2.84666667 2.5483871 ]]\n",
      "[[1.49032258 1.55714286 1.79354839 2.31333333 2.14193548 2.26666667\n",
      "  2.56129032 2.73225806 2.43       1.99677419 2.37333333 2.04193548]]\n",
      "[[2.28064516 2.10357143 2.38709677 2.69333333 2.40645161 2.76333333\n",
      "  2.64193548 2.83548387 2.88666667 2.46451613 3.03666667 2.97419355]]\n",
      "[[1.00967742 0.86071429 1.27741935 1.64       2.2483871  2.74666667\n",
      "  2.70322581 2.79354839 2.86666667 1.96451613 1.69333333 1.28709677]]\n",
      "[[0.59677419 0.5        0.71290323 1.20666667 1.88387097 2.80333333\n",
      "  2.46129032 2.47741935 1.73       0.95806452 0.74       0.61290323]]\n",
      "[[0.51290323 0.51071429 0.65483871 0.89333333 1.07096774 2.11666667\n",
      "  2.30967742 2.03548387 1.9        1.2483871  0.84666667 0.62258065]]\n",
      "[[0.52903226 0.43571429 0.58387097 0.69       0.96774194 1.44\n",
      "  1.68709677 1.94516129 1.87       1.47741935 1.16666667 0.60322581]]\n",
      "[[0.4516129  0.43571429 0.54516129 0.68333333 1.54193548 2.38666667\n",
      "  2.01612903 1.37419355 1.14       0.66451613 0.39666667 0.52580645]]\n",
      "[[0.48709677 0.48214286 0.54193548 0.77       1.39354839 2.31333333\n",
      "  2.3516129  1.77419355 1.30333333 0.73548387 0.56       0.60967742]]\n",
      "[[0.67741935 0.52142857 0.60967742 0.63666667 0.69354839 1.26333333\n",
      "  1.70967742 1.72258065 1.26666667 1.18709677 0.93       0.66451613]]\n",
      "[[0.76129032 0.56071429 0.50322581 0.76666667 1.43870968 2.57666667\n",
      "  3.1        2.22580645 1.54333333 0.61612903 0.54333333 0.6       ]]\n",
      "[[0.36451613 0.34285714 0.46129032 0.79       1.75483871 2.72666667\n",
      "  2.20967742 1.65806452 1.51666667 0.5        0.41333333 0.39032258]]\n",
      "[[0.81935484 0.48571429 0.31612903 0.5        0.72580645 1.01\n",
      "  0.91612903 0.97419355 0.88666667 0.49354839 0.77       1.02258065]]\n",
      "[[4.87419355 4.21071429 3.44516129 2.63333333 1.96129032 1.62666667\n",
      "  1.16451613 1.29677419 2.01666667 3.58709677 5.62       5.61612903]]\n",
      "[[4.49354839 3.46428571 2.31290323 1.49333333 1.09354839 0.92333333\n",
      "  0.62903226 0.78387097 1.14       2.36451613 4.54333333 4.82580645]]\n",
      "[[1.77741935 1.21428571 1.03548387 0.99333333 1.60967742 2.24666667\n",
      "  1.9        1.83870968 1.96333333 1.92580645 1.77       1.70967742]]\n",
      "[[ 8.22903226  7.675       6.00322581  5.92666667  4.65483871  3.97333333\n",
      "   3.61290323  5.18064516  8.45333333 12.21612903 10.19        9.15483871]]\n",
      "[[0.56451613 0.43571429 0.37419355 0.26333333 0.43870968 1.06666667\n",
      "  1.26129032 1.2483871  1.21333333 0.75483871 0.67       0.61935484]]\n",
      "[[0.62580645 0.56428571 0.37419355 0.35333333 0.77096774 1.33666667\n",
      "  1.51290323 1.45483871 1.11333333 1.03225806 0.87333333 0.73225806]]\n",
      "[[0.49032258 0.44642857 0.38064516 0.34       0.57096774 0.80666667\n",
      "  1.13225806 1.27419355 0.97       1.10645161 0.79666667 0.47096774]]\n",
      "[[0.69032258 0.63571429 0.67741935 0.88666667 0.91935484 1.20666667\n",
      "  1.8516129  2.01935484 1.77666667 1.29354839 0.99666667 0.63548387]]\n",
      "[[0.51612903 0.41785714 0.36774194 0.43666667 0.60645161 0.73666667\n",
      "  1.06129032 1.43548387 0.86666667 0.94516129 0.59       0.53548387]]\n",
      "[[0.11935484 0.10714286 0.19354839 0.21       0.32258065 0.41333333\n",
      "  0.71612903 1.01612903 0.75333333 0.4516129  0.23333333 0.17096774]]\n"
     ]
    }
   ],
   "source": [
    "for i in monthlyPrec:\n",
    "    print(i.values)"
   ]
  }
 ],
 "metadata": {
  "kernelspec": {
   "display_name": "Python 3",
   "language": "python",
   "name": "python3"
  },
  "language_info": {
   "codemirror_mode": {
    "name": "ipython",
    "version": 3
   },
   "file_extension": ".py",
   "mimetype": "text/x-python",
   "name": "python",
   "nbconvert_exporter": "python",
   "pygments_lexer": "ipython3",
   "version": "3.7.0"
  }
 },
 "nbformat": 4,
 "nbformat_minor": 2
}
