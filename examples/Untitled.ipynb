{
 "cells": [
  {
   "cell_type": "code",
   "execution_count": 1,
   "metadata": {},
   "outputs": [],
   "source": [
    "# Load packages\n",
    "import matplotlib.pyplot as plt\n",
    "import numpy as np\n",
    "\n",
    "CURRENT_DIR = os.getcwd()\n",
    "PARENT_DIR = os.path.dirname(CURRENT_DIR)\n",
    "sys.path.append(PARENT_DIR)\n",
    "\n",
    "from FDApy.local_polynomial import LocalPolynomial\n",
    "\n",
    "from sklearn.preprocessing import PolynomialFeatures"
   ]
  },
  {
   "cell_type": "code",
   "execution_count": null,
   "metadata": {},
   "outputs": [],
   "source": [
    "def _gaussian(t):\n",
    "    \"\"\"Compute the gaussian density with mean 0 and stadard deviation 1.\n",
    "\n",
    "    Parameters\n",
    "    ----------\n",
    "    t : array-like, shape = [n_samples]\n",
    "        Array at which computes the gaussian density\n",
    "\n",
    "    Return\n",
    "    ------\n",
    "    K : array-like, shape = [n_samples]\n",
    "    \"\"\"\n",
    "    return np.exp(- t**2 / 2) / np.sqrt(2 * np.pi)\n",
    "\n",
    "def _epanechnikov(t):\n",
    "    \"\"\"Compute the Epanechnikov kernel.\n",
    "\n",
    "    Parameters\n",
    "    ----------\n",
    "    t : array-like, shape = [n_samples]\n",
    "        Array on which computes the Epanechnikov kernel\n",
    "\n",
    "    Return\n",
    "    ------\n",
    "    K : array-like, shape = [n_samples]\n",
    "\n",
    "    References\n",
    "    ----------\n",
    "    Hastie, Tibshirani and Friedman, Elements of Statistical Learning, 2009,\n",
    "    equation 6.4\n",
    "    \"\"\"\n",
    "    K = np.zeros(t.shape)\n",
    "    idx = np.where(np.abs(t) <= 1)\n",
    "    K[idx] = 0.75 * (1 - t[idx]**2)\n",
    "    return K\n",
    "\n",
    "def _tri_cube(t):\n",
    "    \"\"\"Compute the tri-cube kernel.\n",
    "\n",
    "    Parameters\n",
    "    ----------\n",
    "    t : array-like, shape = [n_samples]\n",
    "        Array on which computes the tri-cube kernel\n",
    "\n",
    "    Return\n",
    "    ------\n",
    "    K : array-like, shape = [n_samples]\n",
    "\n",
    "    References\n",
    "    ----------\n",
    "    Hastie, Tibshirani and Friedman, Elements of Statistical Learning, 2009,\n",
    "    equation 6.6\n",
    "    \"\"\"\n",
    "    K = np.zeros(t.shape)\n",
    "    idx = np.where(np.abs(t) < 1)\n",
    "    K[idx] = (1 - np.abs(t[idx])**3)**3\n",
    "    return K\n",
    "\n",
    "def _bi_square(t):\n",
    "    \"\"\"Compute the bi-square kernel.\n",
    "\n",
    "    Parameters\n",
    "    ----------\n",
    "    t : array-like, shape = [n_samples]\n",
    "        Array on which computes the bi-square kernel\n",
    "\n",
    "    Return\n",
    "    ------\n",
    "    K : array-like, shape = [n_samples]\n",
    "\n",
    "    References\n",
    "    ----------\n",
    "    Cleveland, Robust Locally Weighted Regression and Smoothing Scatterplots,\n",
    "    1979, p.831\n",
    "    \"\"\"\n",
    "    K = np.zeros(t.shape)\n",
    "    idx = np.where(np.abs(t) < 1)\n",
    "    K[idx] = (1 - t[idx]**2)**2\n",
    "    return K\n"
   ]
  },
  {
   "cell_type": "code",
   "execution_count": 118,
   "metadata": {},
   "outputs": [
    {
     "data": {
      "text/plain": [
       "[<matplotlib.lines.Line2D at 0x7fa9f8cfc160>]"
      ]
     },
     "execution_count": 118,
     "metadata": {},
     "output_type": "execute_result"
    },
    {
     "data": {
      "image/png": "[encoded data removed]",
      "text/plain": [
       "<Figure size 432x288 with 1 Axes>"
      ]
     },
     "metadata": {},
     "output_type": "display_data"
    }
   ],
   "source": [
    "t = np.linspace(-2.5, 2.5, 1000)\n",
    "plt.plot(t, _bi_square(t))"
   ]
  },
  {
   "cell_type": "code",
   "execution_count": 122,
   "metadata": {},
   "outputs": [
    {
     "data": {
      "text/plain": [
       "48.34774214828966"
      ]
     },
     "execution_count": 122,
     "metadata": {},
     "output_type": "execute_result"
    }
   ],
   "source": [
    "np.linalg.norm(t - 0.5, axis=0)"
   ]
  },
  {
   "cell_type": "code",
   "execution_count": 128,
   "metadata": {},
   "outputs": [],
   "source": [
    "x0 = np.asarray([0.5])"
   ]
  },
  {
   "cell_type": "code",
   "execution_count": 123,
   "metadata": {},
   "outputs": [
    {
     "data": {
      "text/plain": [
       "48.34774214828966"
      ]
     },
     "execution_count": 123,
     "metadata": {},
     "output_type": "execute_result"
    }
   ],
   "source": [
    "np.sqrt(np.sum(np.power(t - 0.5, 2), axis=0))"
   ]
  },
  {
   "cell_type": "code",
   "execution_count": 129,
   "metadata": {},
   "outputs": [
    {
     "data": {
      "text/plain": [
       "array([3.00000000e+00, 2.99499499e+00, 2.98998999e+00, 2.98498498e+00,\n",
       "       2.97997998e+00, 2.97497497e+00, 2.96996997e+00, 2.96496496e+00,\n",
       "       2.95995996e+00, 2.95495495e+00, 2.94994995e+00, 2.94494494e+00,\n",
       "       2.93993994e+00, 2.93493493e+00, 2.92992993e+00, 2.92492492e+00,\n",
       "       2.91991992e+00, 2.91491491e+00, 2.90990991e+00, 2.90490490e+00,\n",
       "       2.89989990e+00, 2.89489489e+00, 2.88988989e+00, 2.88488488e+00,\n",
       "       2.87987988e+00, 2.87487487e+00, 2.86986987e+00, 2.86486486e+00,\n",
       "       2.85985986e+00, 2.85485485e+00, 2.84984985e+00, 2.84484484e+00,\n",
       "       2.83983984e+00, 2.83483483e+00, 2.82982983e+00, 2.82482482e+00,\n",
       "       2.81981982e+00, 2.81481481e+00, 2.80980981e+00, 2.80480480e+00,\n",
       "       2.79979980e+00, 2.79479479e+00, 2.78978979e+00, 2.78478478e+00,\n",
       "       2.77977978e+00, 2.77477477e+00, 2.76976977e+00, 2.76476476e+00,\n",
       "       2.75975976e+00, 2.75475475e+00, 2.74974975e+00, 2.74474474e+00,\n",
       "       2.73973974e+00, 2.73473473e+00, 2.72972973e+00, 2.72472472e+00,\n",
       "       2.71971972e+00, 2.71471471e+00, 2.70970971e+00, 2.70470470e+00,\n",
       "       2.69969970e+00, 2.69469469e+00, 2.68968969e+00, 2.68468468e+00,\n",
       "       2.67967968e+00, 2.67467467e+00, 2.66966967e+00, 2.66466466e+00,\n",
       "       2.65965966e+00, 2.65465465e+00, 2.64964965e+00, 2.64464464e+00,\n",
       "       2.63963964e+00, 2.63463463e+00, 2.62962963e+00, 2.62462462e+00,\n",
       "       2.61961962e+00, 2.61461461e+00, 2.60960961e+00, 2.60460460e+00,\n",
       "       2.59959960e+00, 2.59459459e+00, 2.58958959e+00, 2.58458458e+00,\n",
       "       2.57957958e+00, 2.57457457e+00, 2.56956957e+00, 2.56456456e+00,\n",
       "       2.55955956e+00, 2.55455455e+00, 2.54954955e+00, 2.54454454e+00,\n",
       "       2.53953954e+00, 2.53453453e+00, 2.52952953e+00, 2.52452452e+00,\n",
       "       2.51951952e+00, 2.51451451e+00, 2.50950951e+00, 2.50450450e+00,\n",
       "       2.49949950e+00, 2.49449449e+00, 2.48948949e+00, 2.48448448e+00,\n",
       "       2.47947948e+00, 2.47447447e+00, 2.46946947e+00, 2.46446446e+00,\n",
       "       2.45945946e+00, 2.45445445e+00, 2.44944945e+00, 2.44444444e+00,\n",
       "       2.43943944e+00, 2.43443443e+00, 2.42942943e+00, 2.42442442e+00,\n",
       "       2.41941942e+00, 2.41441441e+00, 2.40940941e+00, 2.40440440e+00,\n",
       "       2.39939940e+00, 2.39439439e+00, 2.38938939e+00, 2.38438438e+00,\n",
       "       2.37937938e+00, 2.37437437e+00, 2.36936937e+00, 2.36436436e+00,\n",
       "       2.35935936e+00, 2.35435435e+00, 2.34934935e+00, 2.34434434e+00,\n",
       "       2.33933934e+00, 2.33433433e+00, 2.32932933e+00, 2.32432432e+00,\n",
       "       2.31931932e+00, 2.31431431e+00, 2.30930931e+00, 2.30430430e+00,\n",
       "       2.29929930e+00, 2.29429429e+00, 2.28928929e+00, 2.28428428e+00,\n",
       "       2.27927928e+00, 2.27427427e+00, 2.26926927e+00, 2.26426426e+00,\n",
       "       2.25925926e+00, 2.25425425e+00, 2.24924925e+00, 2.24424424e+00,\n",
       "       2.23923924e+00, 2.23423423e+00, 2.22922923e+00, 2.22422422e+00,\n",
       "       2.21921922e+00, 2.21421421e+00, 2.20920921e+00, 2.20420420e+00,\n",
       "       2.19919920e+00, 2.19419419e+00, 2.18918919e+00, 2.18418418e+00,\n",
       "       2.17917918e+00, 2.17417417e+00, 2.16916917e+00, 2.16416416e+00,\n",
       "       2.15915916e+00, 2.15415415e+00, 2.14914915e+00, 2.14414414e+00,\n",
       "       2.13913914e+00, 2.13413413e+00, 2.12912913e+00, 2.12412412e+00,\n",
       "       2.11911912e+00, 2.11411411e+00, 2.10910911e+00, 2.10410410e+00,\n",
       "       2.09909910e+00, 2.09409409e+00, 2.08908909e+00, 2.08408408e+00,\n",
       "       2.07907908e+00, 2.07407407e+00, 2.06906907e+00, 2.06406406e+00,\n",
       "       2.05905906e+00, 2.05405405e+00, 2.04904905e+00, 2.04404404e+00,\n",
       "       2.03903904e+00, 2.03403403e+00, 2.02902903e+00, 2.02402402e+00,\n",
       "       2.01901902e+00, 2.01401401e+00, 2.00900901e+00, 2.00400400e+00,\n",
       "       1.99899900e+00, 1.99399399e+00, 1.98898899e+00, 1.98398398e+00,\n",
       "       1.97897898e+00, 1.97397397e+00, 1.96896897e+00, 1.96396396e+00,\n",
       "       1.95895896e+00, 1.95395395e+00, 1.94894895e+00, 1.94394394e+00,\n",
       "       1.93893894e+00, 1.93393393e+00, 1.92892893e+00, 1.92392392e+00,\n",
       "       1.91891892e+00, 1.91391391e+00, 1.90890891e+00, 1.90390390e+00,\n",
       "       1.89889890e+00, 1.89389389e+00, 1.88888889e+00, 1.88388388e+00,\n",
       "       1.87887888e+00, 1.87387387e+00, 1.86886887e+00, 1.86386386e+00,\n",
       "       1.85885886e+00, 1.85385385e+00, 1.84884885e+00, 1.84384384e+00,\n",
       "       1.83883884e+00, 1.83383383e+00, 1.82882883e+00, 1.82382382e+00,\n",
       "       1.81881882e+00, 1.81381381e+00, 1.80880881e+00, 1.80380380e+00,\n",
       "       1.79879880e+00, 1.79379379e+00, 1.78878879e+00, 1.78378378e+00,\n",
       "       1.77877878e+00, 1.77377377e+00, 1.76876877e+00, 1.76376376e+00,\n",
       "       1.75875876e+00, 1.75375375e+00, 1.74874875e+00, 1.74374374e+00,\n",
       "       1.73873874e+00, 1.73373373e+00, 1.72872873e+00, 1.72372372e+00,\n",
       "       1.71871872e+00, 1.71371371e+00, 1.70870871e+00, 1.70370370e+00,\n",
       "       1.69869870e+00, 1.69369369e+00, 1.68868869e+00, 1.68368368e+00,\n",
       "       1.67867868e+00, 1.67367367e+00, 1.66866867e+00, 1.66366366e+00,\n",
       "       1.65865866e+00, 1.65365365e+00, 1.64864865e+00, 1.64364364e+00,\n",
       "       1.63863864e+00, 1.63363363e+00, 1.62862863e+00, 1.62362362e+00,\n",
       "       1.61861862e+00, 1.61361361e+00, 1.60860861e+00, 1.60360360e+00,\n",
       "       1.59859860e+00, 1.59359359e+00, 1.58858859e+00, 1.58358358e+00,\n",
       "       1.57857858e+00, 1.57357357e+00, 1.56856857e+00, 1.56356356e+00,\n",
       "       1.55855856e+00, 1.55355355e+00, 1.54854855e+00, 1.54354354e+00,\n",
       "       1.53853854e+00, 1.53353353e+00, 1.52852853e+00, 1.52352352e+00,\n",
       "       1.51851852e+00, 1.51351351e+00, 1.50850851e+00, 1.50350350e+00,\n",
       "       1.49849850e+00, 1.49349349e+00, 1.48848849e+00, 1.48348348e+00,\n",
       "       1.47847848e+00, 1.47347347e+00, 1.46846847e+00, 1.46346346e+00,\n",
       "       1.45845846e+00, 1.45345345e+00, 1.44844845e+00, 1.44344344e+00,\n",
       "       1.43843844e+00, 1.43343343e+00, 1.42842843e+00, 1.42342342e+00,\n",
       "       1.41841842e+00, 1.41341341e+00, 1.40840841e+00, 1.40340340e+00,\n",
       "       1.39839840e+00, 1.39339339e+00, 1.38838839e+00, 1.38338338e+00,\n",
       "       1.37837838e+00, 1.37337337e+00, 1.36836837e+00, 1.36336336e+00,\n",
       "       1.35835836e+00, 1.35335335e+00, 1.34834835e+00, 1.34334334e+00,\n",
       "       1.33833834e+00, 1.33333333e+00, 1.32832833e+00, 1.32332332e+00,\n",
       "       1.31831832e+00, 1.31331331e+00, 1.30830831e+00, 1.30330330e+00,\n",
       "       1.29829830e+00, 1.29329329e+00, 1.28828829e+00, 1.28328328e+00,\n",
       "       1.27827828e+00, 1.27327327e+00, 1.26826827e+00, 1.26326326e+00,\n",
       "       1.25825826e+00, 1.25325325e+00, 1.24824825e+00, 1.24324324e+00,\n",
       "       1.23823824e+00, 1.23323323e+00, 1.22822823e+00, 1.22322322e+00,\n",
       "       1.21821822e+00, 1.21321321e+00, 1.20820821e+00, 1.20320320e+00,\n",
       "       1.19819820e+00, 1.19319319e+00, 1.18818819e+00, 1.18318318e+00,\n",
       "       1.17817818e+00, 1.17317317e+00, 1.16816817e+00, 1.16316316e+00,\n",
       "       1.15815816e+00, 1.15315315e+00, 1.14814815e+00, 1.14314314e+00,\n",
       "       1.13813814e+00, 1.13313313e+00, 1.12812813e+00, 1.12312312e+00,\n",
       "       1.11811812e+00, 1.11311311e+00, 1.10810811e+00, 1.10310310e+00,\n",
       "       1.09809810e+00, 1.09309309e+00, 1.08808809e+00, 1.08308308e+00,\n",
       "       1.07807808e+00, 1.07307307e+00, 1.06806807e+00, 1.06306306e+00,\n",
       "       1.05805806e+00, 1.05305305e+00, 1.04804805e+00, 1.04304304e+00,\n",
       "       1.03803804e+00, 1.03303303e+00, 1.02802803e+00, 1.02302302e+00,\n",
       "       1.01801802e+00, 1.01301301e+00, 1.00800801e+00, 1.00300300e+00,\n",
       "       9.97997998e-01, 9.92992993e-01, 9.87987988e-01, 9.82982983e-01,\n",
       "       9.77977978e-01, 9.72972973e-01, 9.67967968e-01, 9.62962963e-01,\n",
       "       9.57957958e-01, 9.52952953e-01, 9.47947948e-01, 9.42942943e-01,\n",
       "       9.37937938e-01, 9.32932933e-01, 9.27927928e-01, 9.22922923e-01,\n",
       "       9.17917918e-01, 9.12912913e-01, 9.07907908e-01, 9.02902903e-01,\n",
       "       8.97897898e-01, 8.92892893e-01, 8.87887888e-01, 8.82882883e-01,\n",
       "       8.77877878e-01, 8.72872873e-01, 8.67867868e-01, 8.62862863e-01,\n",
       "       8.57857858e-01, 8.52852853e-01, 8.47847848e-01, 8.42842843e-01,\n",
       "       8.37837838e-01, 8.32832833e-01, 8.27827828e-01, 8.22822823e-01,\n",
       "       8.17817818e-01, 8.12812813e-01, 8.07807808e-01, 8.02802803e-01,\n",
       "       7.97797798e-01, 7.92792793e-01, 7.87787788e-01, 7.82782783e-01,\n",
       "       7.77777778e-01, 7.72772773e-01, 7.67767768e-01, 7.62762763e-01,\n",
       "       7.57757758e-01, 7.52752753e-01, 7.47747748e-01, 7.42742743e-01,\n",
       "       7.37737738e-01, 7.32732733e-01, 7.27727728e-01, 7.22722723e-01,\n",
       "       7.17717718e-01, 7.12712713e-01, 7.07707708e-01, 7.02702703e-01,\n",
       "       6.97697698e-01, 6.92692693e-01, 6.87687688e-01, 6.82682683e-01,\n",
       "       6.77677678e-01, 6.72672673e-01, 6.67667668e-01, 6.62662663e-01,\n",
       "       6.57657658e-01, 6.52652653e-01, 6.47647648e-01, 6.42642643e-01,\n",
       "       6.37637638e-01, 6.32632633e-01, 6.27627628e-01, 6.22622623e-01,\n",
       "       6.17617618e-01, 6.12612613e-01, 6.07607608e-01, 6.02602603e-01,\n",
       "       5.97597598e-01, 5.92592593e-01, 5.87587588e-01, 5.82582583e-01,\n",
       "       5.77577578e-01, 5.72572573e-01, 5.67567568e-01, 5.62562563e-01,\n",
       "       5.57557558e-01, 5.52552553e-01, 5.47547548e-01, 5.42542543e-01,\n",
       "       5.37537538e-01, 5.32532533e-01, 5.27527528e-01, 5.22522523e-01,\n",
       "       5.17517518e-01, 5.12512513e-01, 5.07507508e-01, 5.02502503e-01,\n",
       "       4.97497497e-01, 4.92492492e-01, 4.87487487e-01, 4.82482482e-01,\n",
       "       4.77477477e-01, 4.72472472e-01, 4.67467467e-01, 4.62462462e-01,\n",
       "       4.57457457e-01, 4.52452452e-01, 4.47447447e-01, 4.42442442e-01,\n",
       "       4.37437437e-01, 4.32432432e-01, 4.27427427e-01, 4.22422422e-01,\n",
       "       4.17417417e-01, 4.12412412e-01, 4.07407407e-01, 4.02402402e-01,\n",
       "       3.97397397e-01, 3.92392392e-01, 3.87387387e-01, 3.82382382e-01,\n",
       "       3.77377377e-01, 3.72372372e-01, 3.67367367e-01, 3.62362362e-01,\n",
       "       3.57357357e-01, 3.52352352e-01, 3.47347347e-01, 3.42342342e-01,\n",
       "       3.37337337e-01, 3.32332332e-01, 3.27327327e-01, 3.22322322e-01,\n",
       "       3.17317317e-01, 3.12312312e-01, 3.07307307e-01, 3.02302302e-01,\n",
       "       2.97297297e-01, 2.92292292e-01, 2.87287287e-01, 2.82282282e-01,\n",
       "       2.77277277e-01, 2.72272272e-01, 2.67267267e-01, 2.62262262e-01,\n",
       "       2.57257257e-01, 2.52252252e-01, 2.47247247e-01, 2.42242242e-01,\n",
       "       2.37237237e-01, 2.32232232e-01, 2.27227227e-01, 2.22222222e-01,\n",
       "       2.17217217e-01, 2.12212212e-01, 2.07207207e-01, 2.02202202e-01,\n",
       "       1.97197197e-01, 1.92192192e-01, 1.87187187e-01, 1.82182182e-01,\n",
       "       1.77177177e-01, 1.72172172e-01, 1.67167167e-01, 1.62162162e-01,\n",
       "       1.57157157e-01, 1.52152152e-01, 1.47147147e-01, 1.42142142e-01,\n",
       "       1.37137137e-01, 1.32132132e-01, 1.27127127e-01, 1.22122122e-01,\n",
       "       1.17117117e-01, 1.12112112e-01, 1.07107107e-01, 1.02102102e-01,\n",
       "       9.70970971e-02, 9.20920921e-02, 8.70870871e-02, 8.20820821e-02,\n",
       "       7.70770771e-02, 7.20720721e-02, 6.70670671e-02, 6.20620621e-02,\n",
       "       5.70570571e-02, 5.20520521e-02, 4.70470470e-02, 4.20420420e-02,\n",
       "       3.70370370e-02, 3.20320320e-02, 2.70270270e-02, 2.20220220e-02,\n",
       "       1.70170170e-02, 1.20120120e-02, 7.00700701e-03, 2.00200200e-03,\n",
       "       3.00300300e-03, 8.00800801e-03, 1.30130130e-02, 1.80180180e-02,\n",
       "       2.30230230e-02, 2.80280280e-02, 3.30330330e-02, 3.80380380e-02,\n",
       "       4.30430430e-02, 4.80480480e-02, 5.30530531e-02, 5.80580581e-02,\n",
       "       6.30630631e-02, 6.80680681e-02, 7.30730731e-02, 7.80780781e-02,\n",
       "       8.30830831e-02, 8.80880881e-02, 9.30930931e-02, 9.80980981e-02,\n",
       "       1.03103103e-01, 1.08108108e-01, 1.13113113e-01, 1.18118118e-01,\n",
       "       1.23123123e-01, 1.28128128e-01, 1.33133133e-01, 1.38138138e-01,\n",
       "       1.43143143e-01, 1.48148148e-01, 1.53153153e-01, 1.58158158e-01,\n",
       "       1.63163163e-01, 1.68168168e-01, 1.73173173e-01, 1.78178178e-01,\n",
       "       1.83183183e-01, 1.88188188e-01, 1.93193193e-01, 1.98198198e-01,\n",
       "       2.03203203e-01, 2.08208208e-01, 2.13213213e-01, 2.18218218e-01,\n",
       "       2.23223223e-01, 2.28228228e-01, 2.33233233e-01, 2.38238238e-01,\n",
       "       2.43243243e-01, 2.48248248e-01, 2.53253253e-01, 2.58258258e-01,\n",
       "       2.63263263e-01, 2.68268268e-01, 2.73273273e-01, 2.78278278e-01,\n",
       "       2.83283283e-01, 2.88288288e-01, 2.93293293e-01, 2.98298298e-01,\n",
       "       3.03303303e-01, 3.08308308e-01, 3.13313313e-01, 3.18318318e-01,\n",
       "       3.23323323e-01, 3.28328328e-01, 3.33333333e-01, 3.38338338e-01,\n",
       "       3.43343343e-01, 3.48348348e-01, 3.53353353e-01, 3.58358358e-01,\n",
       "       3.63363363e-01, 3.68368368e-01, 3.73373373e-01, 3.78378378e-01,\n",
       "       3.83383383e-01, 3.88388388e-01, 3.93393393e-01, 3.98398398e-01,\n",
       "       4.03403403e-01, 4.08408408e-01, 4.13413413e-01, 4.18418418e-01,\n",
       "       4.23423423e-01, 4.28428428e-01, 4.33433433e-01, 4.38438438e-01,\n",
       "       4.43443443e-01, 4.48448448e-01, 4.53453453e-01, 4.58458458e-01,\n",
       "       4.63463463e-01, 4.68468468e-01, 4.73473473e-01, 4.78478478e-01,\n",
       "       4.83483483e-01, 4.88488488e-01, 4.93493493e-01, 4.98498498e-01,\n",
       "       5.03503504e-01, 5.08508509e-01, 5.13513514e-01, 5.18518519e-01,\n",
       "       5.23523524e-01, 5.28528529e-01, 5.33533534e-01, 5.38538539e-01,\n",
       "       5.43543544e-01, 5.48548549e-01, 5.53553554e-01, 5.58558559e-01,\n",
       "       5.63563564e-01, 5.68568569e-01, 5.73573574e-01, 5.78578579e-01,\n",
       "       5.83583584e-01, 5.88588589e-01, 5.93593594e-01, 5.98598599e-01,\n",
       "       6.03603604e-01, 6.08608609e-01, 6.13613614e-01, 6.18618619e-01,\n",
       "       6.23623624e-01, 6.28628629e-01, 6.33633634e-01, 6.38638639e-01,\n",
       "       6.43643644e-01, 6.48648649e-01, 6.53653654e-01, 6.58658659e-01,\n",
       "       6.63663664e-01, 6.68668669e-01, 6.73673674e-01, 6.78678679e-01,\n",
       "       6.83683684e-01, 6.88688689e-01, 6.93693694e-01, 6.98698699e-01,\n",
       "       7.03703704e-01, 7.08708709e-01, 7.13713714e-01, 7.18718719e-01,\n",
       "       7.23723724e-01, 7.28728729e-01, 7.33733734e-01, 7.38738739e-01,\n",
       "       7.43743744e-01, 7.48748749e-01, 7.53753754e-01, 7.58758759e-01,\n",
       "       7.63763764e-01, 7.68768769e-01, 7.73773774e-01, 7.78778779e-01,\n",
       "       7.83783784e-01, 7.88788789e-01, 7.93793794e-01, 7.98798799e-01,\n",
       "       8.03803804e-01, 8.08808809e-01, 8.13813814e-01, 8.18818819e-01,\n",
       "       8.23823824e-01, 8.28828829e-01, 8.33833834e-01, 8.38838839e-01,\n",
       "       8.43843844e-01, 8.48848849e-01, 8.53853854e-01, 8.58858859e-01,\n",
       "       8.63863864e-01, 8.68868869e-01, 8.73873874e-01, 8.78878879e-01,\n",
       "       8.83883884e-01, 8.88888889e-01, 8.93893894e-01, 8.98898899e-01,\n",
       "       9.03903904e-01, 9.08908909e-01, 9.13913914e-01, 9.18918919e-01,\n",
       "       9.23923924e-01, 9.28928929e-01, 9.33933934e-01, 9.38938939e-01,\n",
       "       9.43943944e-01, 9.48948949e-01, 9.53953954e-01, 9.58958959e-01,\n",
       "       9.63963964e-01, 9.68968969e-01, 9.73973974e-01, 9.78978979e-01,\n",
       "       9.83983984e-01, 9.88988989e-01, 9.93993994e-01, 9.98998999e-01,\n",
       "       1.00400400e+00, 1.00900901e+00, 1.01401401e+00, 1.01901902e+00,\n",
       "       1.02402402e+00, 1.02902903e+00, 1.03403403e+00, 1.03903904e+00,\n",
       "       1.04404404e+00, 1.04904905e+00, 1.05405405e+00, 1.05905906e+00,\n",
       "       1.06406406e+00, 1.06906907e+00, 1.07407407e+00, 1.07907908e+00,\n",
       "       1.08408408e+00, 1.08908909e+00, 1.09409409e+00, 1.09909910e+00,\n",
       "       1.10410410e+00, 1.10910911e+00, 1.11411411e+00, 1.11911912e+00,\n",
       "       1.12412412e+00, 1.12912913e+00, 1.13413413e+00, 1.13913914e+00,\n",
       "       1.14414414e+00, 1.14914915e+00, 1.15415415e+00, 1.15915916e+00,\n",
       "       1.16416416e+00, 1.16916917e+00, 1.17417417e+00, 1.17917918e+00,\n",
       "       1.18418418e+00, 1.18918919e+00, 1.19419419e+00, 1.19919920e+00,\n",
       "       1.20420420e+00, 1.20920921e+00, 1.21421421e+00, 1.21921922e+00,\n",
       "       1.22422422e+00, 1.22922923e+00, 1.23423423e+00, 1.23923924e+00,\n",
       "       1.24424424e+00, 1.24924925e+00, 1.25425425e+00, 1.25925926e+00,\n",
       "       1.26426426e+00, 1.26926927e+00, 1.27427427e+00, 1.27927928e+00,\n",
       "       1.28428428e+00, 1.28928929e+00, 1.29429429e+00, 1.29929930e+00,\n",
       "       1.30430430e+00, 1.30930931e+00, 1.31431431e+00, 1.31931932e+00,\n",
       "       1.32432432e+00, 1.32932933e+00, 1.33433433e+00, 1.33933934e+00,\n",
       "       1.34434434e+00, 1.34934935e+00, 1.35435435e+00, 1.35935936e+00,\n",
       "       1.36436436e+00, 1.36936937e+00, 1.37437437e+00, 1.37937938e+00,\n",
       "       1.38438438e+00, 1.38938939e+00, 1.39439439e+00, 1.39939940e+00,\n",
       "       1.40440440e+00, 1.40940941e+00, 1.41441441e+00, 1.41941942e+00,\n",
       "       1.42442442e+00, 1.42942943e+00, 1.43443443e+00, 1.43943944e+00,\n",
       "       1.44444444e+00, 1.44944945e+00, 1.45445445e+00, 1.45945946e+00,\n",
       "       1.46446446e+00, 1.46946947e+00, 1.47447447e+00, 1.47947948e+00,\n",
       "       1.48448448e+00, 1.48948949e+00, 1.49449449e+00, 1.49949950e+00,\n",
       "       1.50450450e+00, 1.50950951e+00, 1.51451451e+00, 1.51951952e+00,\n",
       "       1.52452452e+00, 1.52952953e+00, 1.53453453e+00, 1.53953954e+00,\n",
       "       1.54454454e+00, 1.54954955e+00, 1.55455455e+00, 1.55955956e+00,\n",
       "       1.56456456e+00, 1.56956957e+00, 1.57457457e+00, 1.57957958e+00,\n",
       "       1.58458458e+00, 1.58958959e+00, 1.59459459e+00, 1.59959960e+00,\n",
       "       1.60460460e+00, 1.60960961e+00, 1.61461461e+00, 1.61961962e+00,\n",
       "       1.62462462e+00, 1.62962963e+00, 1.63463463e+00, 1.63963964e+00,\n",
       "       1.64464464e+00, 1.64964965e+00, 1.65465465e+00, 1.65965966e+00,\n",
       "       1.66466466e+00, 1.66966967e+00, 1.67467467e+00, 1.67967968e+00,\n",
       "       1.68468468e+00, 1.68968969e+00, 1.69469469e+00, 1.69969970e+00,\n",
       "       1.70470470e+00, 1.70970971e+00, 1.71471471e+00, 1.71971972e+00,\n",
       "       1.72472472e+00, 1.72972973e+00, 1.73473473e+00, 1.73973974e+00,\n",
       "       1.74474474e+00, 1.74974975e+00, 1.75475475e+00, 1.75975976e+00,\n",
       "       1.76476476e+00, 1.76976977e+00, 1.77477477e+00, 1.77977978e+00,\n",
       "       1.78478478e+00, 1.78978979e+00, 1.79479479e+00, 1.79979980e+00,\n",
       "       1.80480480e+00, 1.80980981e+00, 1.81481481e+00, 1.81981982e+00,\n",
       "       1.82482482e+00, 1.82982983e+00, 1.83483483e+00, 1.83983984e+00,\n",
       "       1.84484484e+00, 1.84984985e+00, 1.85485485e+00, 1.85985986e+00,\n",
       "       1.86486486e+00, 1.86986987e+00, 1.87487487e+00, 1.87987988e+00,\n",
       "       1.88488488e+00, 1.88988989e+00, 1.89489489e+00, 1.89989990e+00,\n",
       "       1.90490490e+00, 1.90990991e+00, 1.91491491e+00, 1.91991992e+00,\n",
       "       1.92492492e+00, 1.92992993e+00, 1.93493493e+00, 1.93993994e+00,\n",
       "       1.94494494e+00, 1.94994995e+00, 1.95495495e+00, 1.95995996e+00,\n",
       "       1.96496496e+00, 1.96996997e+00, 1.97497497e+00, 1.97997998e+00,\n",
       "       1.98498498e+00, 1.98998999e+00, 1.99499499e+00, 2.00000000e+00])"
      ]
     },
     "execution_count": 129,
     "metadata": {},
     "output_type": "execute_result"
    }
   ],
   "source": [
    "np.sqrt(np.sum(np.power(t - x0[:, np.newaxis], 2), 0))"
   ]
  },
  {
   "cell_type": "code",
   "execution_count": 117,
   "metadata": {},
   "outputs": [],
   "source": [
    "def _compute_kernel(x, x0, h, kernel='gaussian'):\n",
    "    \"\"\"Compute kernel at point (x - x0) / h.\n",
    "\n",
    "    Parameters\n",
    "    ----------\n",
    "    kernel : string, default='gaussian'\n",
    "        Kernel name used.\n",
    "    x : array-like, shape = [n_dim, n_samples]\n",
    "        Training data.\n",
    "    x0 : float-array, shape= [n_dim,]\n",
    "        Number around which compute the kernel.\n",
    "    h : float\n",
    "        Bandwidth to control the importance of points far from x0.\n",
    "\n",
    "    Return\n",
    "    ------\n",
    "    K : array-like , shape = [n_samples, n_samples]\n",
    "\n",
    "    References\n",
    "    ----------\n",
    "    Hastie, Tibshirani and Friedman, Elements of Statistical Learning, 2009,\n",
    "    equation 6.13\n",
    "    \"\"\"\n",
    "\n",
    "    if not np.iterable(x0):\n",
    "        x0 = np.asarray([x0])\n",
    "\n",
    "    t = np.sqrt(np.sum(np.power(x - x0.T, 2), axis=0)) / h\n",
    "\n",
    "    if kernel is 'gaussian':\n",
    "        K = _gaussian(t)\n",
    "    elif kernel is 'epanechnikov':\n",
    "        K = _epanechnikov(t)\n",
    "    elif kernel is 'tricube':\n",
    "        K = _tri_cube(t)\n",
    "    elif kernel is 'bisquare':\n",
    "        K = _bi_square(t)\n",
    "    else:\n",
    "        raise ValueError(''.join[\n",
    "            'The kernel `', kernel, '` is not implemented!'])\n",
    "\n",
    "    return np.diag(K.flatten())\n",
    "\n",
    "def _loc_poly(x, y, x0, B,\n",
    "              kernel='gaussian', h=0.05, degree=2):\n",
    "    \"\"\"Local polynomial regression for one point.\n",
    "\n",
    "    Let (x_1, Y_1), ...., (x_n, Y_n) be a random sample of bivariate data.\n",
    "    Assume the following model: Y_i = f(x_i) + e_i. We would like to estimate\n",
    "    the unknown regression function f(x) = E[Y | X = x]. We approximate f(x)\n",
    "    using Taylor series.\n",
    "\n",
    "    Parameters\n",
    "    ----------\n",
    "    x : array-like, shape = [n_samples]\n",
    "        1-D input array.\n",
    "    y : array-like, shape = [n_samples]\n",
    "        1-D input array such that y = f(x) + e.\n",
    "    x0 : float\n",
    "        1-D array on which estimate the function f(x).\n",
    "    B : array-like, shape = [n_sample, degree+1]\n",
    "        Design matrix.\n",
    "    kernel : string, default='gaussian'\n",
    "        Kernel name used as weight.\n",
    "    h : float, default=0.05\n",
    "        Bandwidth for the kernel trick.\n",
    "    degree : integer, default=2\n",
    "        Degree of the local polynomial to fit.\n",
    "\n",
    "    Return\n",
    "    ------\n",
    "    y0_pred : float\n",
    "        Prediction of y0, which is f(x0).\n",
    "\n",
    "    References\n",
    "    ----------\n",
    "    Zhang and Chen, Statistical Inferences for functional data, The Annals of\n",
    "    Statistics, 1052-1079, No. 3, Vol. 35, 2007.\n",
    "\n",
    "    \"\"\"\n",
    "    x0 = np.array([x0], ndmin=2)\n",
    "\n",
    "    # Compute kernel.\n",
    "    K = _compute_kernel(x=x, x0=x0, h=h, kernel=kernel)\n",
    "\n",
    "    # Compute the estimation of f (and derivatives) at x0.\n",
    "    BtW = np.dot(B.T, K)\n",
    "    beta = np.dot(np.linalg.pinv(np.dot(BtW, B)), np.dot(BtW, y))\n",
    "\n",
    "    poly_features = PolynomialFeatures(degree=degree)\n",
    "    B0 = poly_features.fit_transform(x0)\n",
    "\n",
    "    return np.dot(B0, beta)[0]"
   ]
  },
  {
   "cell_type": "code",
   "execution_count": 84,
   "metadata": {},
   "outputs": [],
   "source": [
    "class LocalPolynomial():\n",
    "    \"\"\"Local polynomial regression.\n",
    "\n",
    "    Let (x_1, Y_1), ...., (x_n, Y_n) be a random sample of bivariate data.\n",
    "    For all i, x_i belongs to R^d and Y_i in R. Assume the following model:\n",
    "    Y_i = f(x_i) + e_i. We would like to estimate the unknown regression\n",
    "\n",
    "    function f(x) = E[Y | X = x]. We approximate f(x) using Taylor series.\n",
    "\n",
    "    Parameters\n",
    "    ----------\n",
    "    kernel : string, default=\"gaussian\"\n",
    "        Kernel name used as weight (default = 'gaussian').\n",
    "    bandwidth : float, default=0.05\n",
    "        Strictly positive. Control the size of the associated neighborhood.\n",
    "    degree: integer, default=2\n",
    "        Degree of the local polynomial to fit. If degree = 0, we fit the local\n",
    "        constant estimator (equivalent to the Nadaraya-Watson estimator). If\n",
    "        degree = 1, we fit the local linear estimator.\n",
    "\n",
    "    Return\n",
    "    ------\n",
    "\n",
    "    References\n",
    "    ----------\n",
    "    * Zhang and Chen, Statistical Inferences for functional data, The Annals of\n",
    "    Statistics, 1052-1079, No. 3, Vol. 35, 2007.\n",
    "    * https://github.com/arokem/lowess/blob/master/lowess/lowess.py\n",
    "\n",
    "    \"\"\"\n",
    "    def __init__(self, kernel=\"gaussian\", bandwidth=0.05, degree=2):\n",
    "        # TODO: Add test on parameters.\n",
    "        self.kernel = kernel\n",
    "        self.bandwidth = bandwidth\n",
    "        self.degree = degree\n",
    "        self.poly_features = PolynomialFeatures(degree=degree)\n",
    "\n",
    "    def fit(self, x, y):\n",
    "        \"\"\"Fit local polynomial regression.\n",
    "\n",
    "        Parameters:\n",
    "        -----------\n",
    "        x : array-like, shape = [n_dim, n_samples]\n",
    "            Training data, input array.\n",
    "        y : array-like, shape = [n_samples, ]\n",
    "            Target values, 1-D input array\n",
    "\n",
    "        Return\n",
    "        ------\n",
    "        self : returns an instance of self.\n",
    "        \"\"\"\n",
    "        # TODO: Add tests on the parameters.\n",
    "        self.X = np.array(x, ndmin=2)\n",
    "        self.Y = y\n",
    "\n",
    "        x0 = np.unique(self.X, axis=1).squeeze()\n",
    "\n",
    "        design_matrix = self.poly_features.fit_transform(self.X.T)\n",
    "\n",
    "        self.X_fit_ = np.array([_loc_poly(x, y, i, design_matrix,\n",
    "                                self.kernel, h, self.degree)\n",
    "                                for (i, h) in zip(x0.T, self.bandwidth)])\n",
    "        return self\n",
    "\n",
    "    def predict(self, X):\n",
    "        \"\"\" Predict using local polynomial regression.\n",
    "\n",
    "        Parameters\n",
    "        ----------\n",
    "        X : array-like, shape = [n_samples]\n",
    "\n",
    "        Return\n",
    "        ------\n",
    "        y_pred : array-like, shape = [n_samples]\n",
    "            Return predicted values.\n",
    "        \"\"\"\n",
    "        if type(X) in (int, float, np.int_, np.float_):\n",
    "            X = [X]\n",
    "\n",
    "        design_matrix = self.poly_features.fit_transform(self.X.T)\n",
    "\n",
    "        y_pred = np.array([_loc_poly(self.X, self.Y, i, design_matrix,\n",
    "                           self.kernel, h, self.degree)\n",
    "                           for (i, h) in zip(X, self.bandwidth)])\n",
    "\n",
    "        return y_pred"
   ]
  },
  {
   "cell_type": "code",
   "execution_count": 4,
   "metadata": {},
   "outputs": [],
   "source": [
    "X = np.random.normal(0, 1, 100)\n",
    "Y = 2 * np.sin(X) + np.random.normal(0, 0.25, 100)\n",
    "Y_true = 2 * np.sin(np.linspace(-2, 2, 200))"
   ]
  },
  {
   "cell_type": "code",
   "execution_count": 11,
   "metadata": {},
   "outputs": [],
   "source": [
    "B = PolynomialFeatures(degree=0).fit_transform(np.array(X, ndmin=2).T)"
   ]
  },
  {
   "cell_type": "code",
   "execution_count": 54,
   "metadata": {},
   "outputs": [
    {
     "data": {
      "text/plain": [
       "1.1057405653630688"
      ]
     },
     "execution_count": 54,
     "metadata": {},
     "output_type": "execute_result"
    }
   ],
   "source": [
    "_loc_poly(X, Y, 0.5, B, 'epanechnikov', 0.05, 0)"
   ]
  },
  {
   "cell_type": "code",
   "execution_count": 38,
   "metadata": {},
   "outputs": [
    {
     "data": {
      "text/plain": [
       "array([1.26080766, 0.9718603 , 1.06276029, 1.07988203])"
      ]
     },
     "execution_count": 38,
     "metadata": {},
     "output_type": "execute_result"
    }
   ],
   "source": [
    "Y[np.where((X > 0.45) & (X < 0.55))]"
   ]
  },
  {
   "cell_type": "code",
   "execution_count": 35,
   "metadata": {},
   "outputs": [],
   "source": [
    "W = _compute_kernel(np.array([0.50447648, 0.47454149, 0.47329971, 0.48634175], ndmin=2), 0.5, 0.05, 'epanechnikov')"
   ]
  },
  {
   "cell_type": "code",
   "execution_count": 43,
   "metadata": {},
   "outputs": [
    {
     "data": {
      "text/plain": [
       "1.105740563404357"
      ]
     },
     "execution_count": 43,
     "metadata": {},
     "output_type": "execute_result"
    }
   ],
   "source": [
    "np.sum(np.dot(W, Y[np.where((X > 0.45) & (X < 0.55))]) / np.sum(np.diag(W)))"
   ]
  },
  {
   "cell_type": "code",
   "execution_count": 4,
   "metadata": {},
   "outputs": [
    {
     "data": {
      "image/png": "[encoded data removed]",
      "text/plain": [
       "<Figure size 432x288 with 1 Axes>"
      ]
     },
     "metadata": {},
     "output_type": "display_data"
    }
   ],
   "source": [
    "plt.scatter(X, Y)\n",
    "plt.plot(np.linspace(-2, 2, 200), Y_true, 'green')\n",
    "plt.show()"
   ]
  },
  {
   "cell_type": "code",
   "execution_count": 90,
   "metadata": {},
   "outputs": [],
   "source": [
    "h_list = np.append(np.repeat(0.01, 50), np.repeat(0.2, 50))"
   ]
  },
  {
   "cell_type": "code",
   "execution_count": 93,
   "metadata": {},
   "outputs": [
    {
     "data": {
      "image/png": "[encoded data removed]",
      "text/plain": [
       "<Figure size 432x288 with 1 Axes>"
      ]
     },
     "metadata": {},
     "output_type": "display_data"
    }
   ],
   "source": [
    "lp = LocalPolynomial(kernel=\"epanechnikov\", bandwidth=h_list, degree=0)\n",
    "lp.fit(X, Y)\n",
    "\n",
    "plt.scatter(X, Y)\n",
    "plt.scatter(np.sort(X), lp.predict(np.sort(X)))\n",
    "plt.plot(np.linspace(-2, 2, 200), Y_true, 'green')\n",
    "plt.show()"
   ]
  }
 ],
 "metadata": {
  "kernelspec": {
   "display_name": "Python 3",
   "language": "python",
   "name": "python3"
  },
  "language_info": {
   "codemirror_mode": {
    "name": "ipython",
    "version": 3
   },
   "file_extension": ".py",
   "mimetype": "text/x-python",
   "name": "python",
   "nbconvert_exporter": "python",
   "pygments_lexer": "ipython3",
   "version": "3.7.0"
  },
  "varInspector": {
   "cols": {
    "lenName": 16,
    "lenType": 16,
    "lenVar": 40
   },
   "kernels_config": {
    "python": {
     "delete_cmd_postfix": "",
     "delete_cmd_prefix": "del ",
     "library": "var_list.py",
     "varRefreshCmd": "print(var_dic_list())"
    },
    "r": {
     "delete_cmd_postfix": ") ",
     "delete_cmd_prefix": "rm(",
     "library": "var_list.r",
     "varRefreshCmd": "cat(var_dic_list()) "
    }
   },
   "types_to_exclude": [
    "module",
    "function",
    "builtin_function_or_method",
    "instance",
    "_Feature"
   ],
   "window_display": false
  }
 },
 "nbformat": 4,
 "nbformat_minor": 2
}
