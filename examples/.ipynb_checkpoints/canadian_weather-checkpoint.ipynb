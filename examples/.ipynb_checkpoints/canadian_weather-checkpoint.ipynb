{
 "cells": [
  {
   "cell_type": "code",
   "execution_count": 1,
   "metadata": {},
   "outputs": [],
   "source": [
    "import itertools\n",
    "import numpy as np\n",
    "import pandas as pd\n",
    "import os\n",
    "import sys\n",
    "\n",
    "CURRENT_DIR = os.getcwd()\n",
    "PARENT_DIR = os.path.dirname(CURRENT_DIR)\n",
    "sys.path.append(PARENT_DIR)\n",
    "\n",
    "from FDApy.univariate_functional import UnivariateFunctionalData\n",
    "from FDApy.irregular_functional import IrregularFunctionalData\n",
    "from FDApy.multivariate_functional import MultivariateFunctionalData\n",
    "from FDApy.fpca import FPCA"
   ]
  },
  {
   "cell_type": "code",
   "execution_count": 2,
   "metadata": {},
   "outputs": [],
   "source": [
    "# Load the data into a Pandas Dataframes\n",
    "precipitation = pd.read_csv(''.join([CURRENT_DIR, '/canadian_precipitation_monthly.csv']), index_col=0)\n",
    "temperature = pd.read_csv(''.join([CURRENT_DIR, '/canadian_temperature_daily.csv']), index_col=0)"
   ]
  },
  {
   "cell_type": "code",
   "execution_count": 3,
   "metadata": {
    "scrolled": true
   },
   "outputs": [
    {
     "name": "stdout",
     "output_type": "stream",
     "text": [
      "argvals is converted into one dimensional list!\n"
     ]
    }
   ],
   "source": [
    "# Create univariate functional data for the precipitation data\n",
    "argvals = tuple(pd.factorize(precipitation.columns)[0])\n",
    "values = np.array(precipitation)\n",
    "monthlyPrec = UnivariateFunctionalData(argvals, values)"
   ]
  },
  {
   "cell_type": "code",
   "execution_count": 4,
   "metadata": {
    "scrolled": true
   },
   "outputs": [
    {
     "name": "stdout",
     "output_type": "stream",
     "text": [
      "argvals is converted into one dimensional list!\n"
     ]
    }
   ],
   "source": [
    "# Create univariate functional data for the daily temperature data.\n",
    "argvals = tuple(pd.factorize(temperature.columns)[0])\n",
    "values = np.array(temperature)\n",
    "dailyTemp = UnivariateFunctionalData(argvals, values)"
   ]
  },
  {
   "cell_type": "code",
   "execution_count": 5,
   "metadata": {},
   "outputs": [],
   "source": [
    "# Create multivariate functional data for the Canadian weather data.\n",
    "canadWeather = MultivariateFunctionalData([dailyTemp, monthlyPrec])"
   ]
  },
  {
   "cell_type": "code",
   "execution_count": 6,
   "metadata": {},
   "outputs": [
    {
     "data": {
      "text/plain": [
       "Univariate Functional data objects with 35 observations of 1-dimensional support\n",
       "argvals:\n",
       "\t0, 1, ... , 364\t(365 sampling points)\n",
       "values:\n",
       "\tarray of size (35, 365)"
      ]
     },
     "execution_count": 6,
     "metadata": {},
     "output_type": "execute_result"
    }
   ],
   "source": [
    "# Print example of a UnivariateFunctionalData\n",
    "dailyTemp"
   ]
  },
  {
   "cell_type": "code",
   "execution_count": 7,
   "metadata": {},
   "outputs": [
    {
     "data": {
      "text/plain": [
       "Multivariate Functional data objects with 2 funtions:\n",
       "- Univariate Functional data objects with 35 observations of 1-dimensional support\n",
       "argvals:\n",
       "\t0, 1, ... , 364\t(365 sampling points)\n",
       "values:\n",
       "\tarray of size (35, 365)\n",
       "- Univariate Functional data objects with 35 observations of 1-dimensional support\n",
       "argvals:\n",
       "\t0, 1, ... , 11\t(12 sampling points)\n",
       "values:\n",
       "\tarray of size (35, 12)"
      ]
     },
     "execution_count": 7,
     "metadata": {},
     "output_type": "execute_result"
    }
   ],
   "source": [
    "# Print example of a MultivariateFunctionalData\n",
    "canadWeather"
   ]
  },
  {
   "cell_type": "code",
   "execution_count": 8,
   "metadata": {},
   "outputs": [
    {
     "data": {
      "text/plain": [
       "[(0, 1, 2, 3, 4, 5, 6, 7, 8, 9, 10, 11)]"
      ]
     },
     "execution_count": 8,
     "metadata": {},
     "output_type": "execute_result"
    }
   ],
   "source": [
    "# Accessing the attribut of the classes\n",
    "monthlyPrec.argvals"
   ]
  },
  {
   "cell_type": "code",
   "execution_count": 9,
   "metadata": {},
   "outputs": [
    {
     "data": {
      "text/plain": [
       "35"
      ]
     },
     "execution_count": 9,
     "metadata": {},
     "output_type": "execute_result"
    }
   ],
   "source": [
    "# Number of observations for an object\n",
    "monthlyPrec.nObs()"
   ]
  },
  {
   "cell_type": "code",
   "execution_count": 10,
   "metadata": {},
   "outputs": [
    {
     "data": {
      "text/plain": [
       "[[365], [12]]"
      ]
     },
     "execution_count": 10,
     "metadata": {},
     "output_type": "execute_result"
    }
   ],
   "source": [
    "# Number of sampling points for an object\n",
    "canadWeather.nObsPoint()"
   ]
  },
  {
   "cell_type": "code",
   "execution_count": 11,
   "metadata": {},
   "outputs": [
    {
     "data": {
      "text/plain": [
       "1"
      ]
     },
     "execution_count": 11,
     "metadata": {},
     "output_type": "execute_result"
    }
   ],
   "source": [
    "# Dimension of the domain of observations\n",
    "dailyTemp.dimension()"
   ]
  },
  {
   "cell_type": "code",
   "execution_count": 12,
   "metadata": {},
   "outputs": [
    {
     "data": {
      "text/plain": [
       "Univariate Functional data objects with 3 observations of 1-dimensional support\n",
       "argvals:\n",
       "\t0, 1, ... , 364\t(365 sampling points)\n",
       "values:\n",
       "\tarray of size (3, 365)"
      ]
     },
     "execution_count": 12,
     "metadata": {},
     "output_type": "execute_result"
    }
   ],
   "source": [
    "# Extract observations from UnivariateFunctionalData\n",
    "dailyTemp[3:6]"
   ]
  },
  {
   "cell_type": "code",
   "execution_count": 13,
   "metadata": {},
   "outputs": [
    {
     "name": "stdout",
     "output_type": "stream",
     "text": [
      "Convert data into one dimensional list.\n"
     ]
    },
    {
     "data": {
      "text/plain": [
       "Multivariate Functional data objects with 1 funtions:\n",
       "- Univariate Functional data objects with 35 observations of 1-dimensional support\n",
       "argvals:\n",
       "\t0, 1, ... , 364\t(365 sampling points)\n",
       "values:\n",
       "\tarray of size (35, 365)"
      ]
     },
     "execution_count": 13,
     "metadata": {},
     "output_type": "execute_result"
    }
   ],
   "source": [
    "# Extract functions from MultivariateFunctionalData\n",
    "canadWeather[0]"
   ]
  },
  {
   "cell_type": "code",
   "execution_count": 14,
   "metadata": {},
   "outputs": [
    {
     "data": {
      "text/plain": [
       "Irregular Functional data objects with 35 observations of 1-dimensional support\n",
       "argvals:\n",
       "\tValues in 0 ... 364.\n",
       "values:\n",
       "\tValues in -34.8 ... 22.8.\n",
       "There are 365 - 365 sampling points per observation."
      ]
     },
     "execution_count": 14,
     "metadata": {},
     "output_type": "execute_result"
    }
   ],
   "source": [
    "# Convert UnivariateFunctionalData into IrregularFunctionalData.\n",
    "dailyTemp.asIrregularFunctionalData()"
   ]
  },
  {
   "cell_type": "code",
   "execution_count": 15,
   "metadata": {},
   "outputs": [
    {
     "data": {
      "text/plain": [
       "Multivariate Functional data objects with 1 funtions:\n",
       "- Univariate Functional data objects with 35 observations of 1-dimensional support\n",
       "argvals:\n",
       "\t0, 1, ... , 11\t(12 sampling points)\n",
       "values:\n",
       "\tarray of size (35, 12)"
      ]
     },
     "execution_count": 15,
     "metadata": {},
     "output_type": "execute_result"
    }
   ],
   "source": [
    "# Convert UnivariateFunctionalData into MultivariateFunctionalData.\n",
    "monthlyPrec.asMultivariateFunctionalData()"
   ]
  },
  {
   "cell_type": "code",
   "execution_count": 16,
   "metadata": {},
   "outputs": [
    {
     "data": {
      "text/plain": [
       "Multivariate Functional data objects with 3 funtions:\n",
       "- Univariate Functional data objects with 35 observations of 1-dimensional support\n",
       "argvals:\n",
       "\t0, 1, ... , 364\t(365 sampling points)\n",
       "values:\n",
       "\tarray of size (35, 365)\n",
       "- Univariate Functional data objects with 35 observations of 1-dimensional support\n",
       "argvals:\n",
       "\t0, 1, ... , 11\t(12 sampling points)\n",
       "values:\n",
       "\tarray of size (35, 12)\n",
       "- Univariate Functional data objects with 35 observations of 1-dimensional support\n",
       "argvals:\n",
       "\t0, 1, ... , 364\t(365 sampling points)\n",
       "values:\n",
       "\tarray of size (35, 365)"
      ]
     },
     "execution_count": 16,
     "metadata": {},
     "output_type": "execute_result"
    }
   ],
   "source": [
    "# Add another function to a MultivariateFunctionalData\n",
    "canadWeather.add(dailyTemp)"
   ]
  },
  {
   "cell_type": "code",
   "execution_count": 17,
   "metadata": {},
   "outputs": [
    {
     "ename": "AttributeError",
     "evalue": "module 'FDApy' has no attribute 'univariate_fonctional'",
     "output_type": "error",
     "traceback": [
      "\u001b[0;31m---------------------------------------------------------------------------\u001b[0m",
      "\u001b[0;31mAttributeError\u001b[0m                            Traceback (most recent call last)",
      "\u001b[0;32m<ipython-input-17-f1b8b56cf244>\u001b[0m in \u001b[0;36m<module>\u001b[0;34m()\u001b[0m\n\u001b[1;32m      1\u001b[0m \u001b[0;31m# Perform a FPCA.\u001b[0m\u001b[0;34m\u001b[0m\u001b[0;34m\u001b[0m\u001b[0m\n\u001b[1;32m      2\u001b[0m \u001b[0mfpca\u001b[0m \u001b[0;34m=\u001b[0m \u001b[0mFPCA\u001b[0m\u001b[0;34m(\u001b[0m\u001b[0mn_components\u001b[0m\u001b[0;34m=\u001b[0m\u001b[0;36m0.95\u001b[0m\u001b[0;34m)\u001b[0m\u001b[0;34m\u001b[0m\u001b[0m\n\u001b[0;32m----> 3\u001b[0;31m \u001b[0mfpca\u001b[0m\u001b[0;34m.\u001b[0m\u001b[0mfit\u001b[0m\u001b[0;34m(\u001b[0m\u001b[0mdailyTemp\u001b[0m\u001b[0;34m)\u001b[0m\u001b[0;34m\u001b[0m\u001b[0m\n\u001b[0m",
      "\u001b[0;32m~/Documents/workspace/FDApy/FDApy/fpca.py\u001b[0m in \u001b[0;36mfit\u001b[0;34m(self, X)\u001b[0m\n\u001b[1;32m     54\u001b[0m                         \u001b[0mReturns\u001b[0m \u001b[0mthe\u001b[0m \u001b[0minstance\u001b[0m \u001b[0mitself\u001b[0m\u001b[0;34m.\u001b[0m\u001b[0;34m\u001b[0m\u001b[0m\n\u001b[1;32m     55\u001b[0m \t\t\"\"\"\n\u001b[0;32m---> 56\u001b[0;31m                 \u001b[0mself\u001b[0m\u001b[0;34m.\u001b[0m\u001b[0m_fit\u001b[0m\u001b[0;34m(\u001b[0m\u001b[0mX\u001b[0m\u001b[0;34m)\u001b[0m\u001b[0;34m\u001b[0m\u001b[0m\n\u001b[0m\u001b[1;32m     57\u001b[0m                 \u001b[0;32mreturn\u001b[0m \u001b[0mself\u001b[0m\u001b[0;34m\u001b[0m\u001b[0m\n\u001b[1;32m     58\u001b[0m \u001b[0;34m\u001b[0m\u001b[0m\n",
      "\u001b[0;32m~/Documents/workspace/FDApy/FDApy/fpca.py\u001b[0m in \u001b[0;36m_fit\u001b[0;34m(self, X)\u001b[0m\n\u001b[1;32m     60\u001b[0m         \u001b[0;32mdef\u001b[0m \u001b[0m_fit\u001b[0m\u001b[0;34m(\u001b[0m\u001b[0mself\u001b[0m\u001b[0;34m,\u001b[0m \u001b[0mX\u001b[0m\u001b[0;34m)\u001b[0m\u001b[0;34m:\u001b[0m\u001b[0;34m\u001b[0m\u001b[0m\n\u001b[1;32m     61\u001b[0m                 \u001b[0;34m\"\"\"Dispatch to the right submethod depending on the input.\"\"\"\u001b[0m\u001b[0;34m\u001b[0m\u001b[0m\n\u001b[0;32m---> 62\u001b[0;31m                 \u001b[0;32mif\u001b[0m \u001b[0mtype\u001b[0m\u001b[0;34m(\u001b[0m\u001b[0mX\u001b[0m\u001b[0;34m)\u001b[0m \u001b[0;32mis\u001b[0m \u001b[0mFDApy\u001b[0m\u001b[0;34m.\u001b[0m\u001b[0munivariate_fonctional\u001b[0m\u001b[0;34m.\u001b[0m\u001b[0mUnivariateFunctionalData\u001b[0m\u001b[0;34m:\u001b[0m\u001b[0;34m\u001b[0m\u001b[0m\n\u001b[0m\u001b[1;32m     63\u001b[0m                         \u001b[0mself\u001b[0m\u001b[0;34m.\u001b[0m\u001b[0m_fit_uni\u001b[0m\u001b[0;34m(\u001b[0m\u001b[0mX\u001b[0m\u001b[0;34m,\u001b[0m \u001b[0mself\u001b[0m\u001b[0;34m.\u001b[0m\u001b[0mn_components\u001b[0m\u001b[0;34m,\u001b[0m \u001b[0mself\u001b[0m\u001b[0;34m.\u001b[0m\u001b[0mwhiten\u001b[0m\u001b[0;34m)\u001b[0m\u001b[0;34m\u001b[0m\u001b[0m\n\u001b[1;32m     64\u001b[0m                 \u001b[0;32melif\u001b[0m \u001b[0mtype\u001b[0m\u001b[0;34m(\u001b[0m\u001b[0mX\u001b[0m\u001b[0;34m)\u001b[0m \u001b[0;32mis\u001b[0m \u001b[0mFDApy\u001b[0m\u001b[0;34m.\u001b[0m\u001b[0mmultivariate_functional\u001b[0m\u001b[0;34m.\u001b[0m\u001b[0mMultivariateFunctionalData\u001b[0m\u001b[0;34m:\u001b[0m\u001b[0;34m\u001b[0m\u001b[0m\n",
      "\u001b[0;31mAttributeError\u001b[0m: module 'FDApy' has no attribute 'univariate_fonctional'"
     ]
    }
   ],
   "source": [
    "# Perform a FPCA.\n",
    "fpca = FPCA(n_components=0.95)\n",
    "fpca.fit(dailyTemp)"
   ]
  }
 ],
 "metadata": {
  "kernelspec": {
   "display_name": "Python 3",
   "language": "python",
   "name": "python3"
  },
  "language_info": {
   "codemirror_mode": {
    "name": "ipython",
    "version": 3
   },
   "file_extension": ".py",
   "mimetype": "text/x-python",
   "name": "python",
   "nbconvert_exporter": "python",
   "pygments_lexer": "ipython3",
   "version": "3.7.0"
  }
 },
 "nbformat": 4,
 "nbformat_minor": 2
}
