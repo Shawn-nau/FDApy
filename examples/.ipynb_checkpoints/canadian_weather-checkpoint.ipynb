{
 "cells": [
  {
   "cell_type": "code",
   "execution_count": 1,
   "metadata": {},
   "outputs": [],
   "source": [
    "import itertools\n",
    "import numpy as np\n",
    "import pandas as pd\n",
    "import os\n",
    "import sklearn.decomposition\n",
    "import sys\n",
    "\n",
    "CURRENT_DIR = os.getcwd()\n",
    "PARENT_DIR = os.path.dirname(CURRENT_DIR)\n",
    "sys.path.append(PARENT_DIR)\n",
    "\n",
    "from FDApy.univariate_functional import UnivariateFunctionalData\n",
    "from FDApy.irregular_functional import IrregularFunctionalData\n",
    "from FDApy.multivariate_functional import MultivariateFunctionalData\n",
    "from FDApy.fpca import UFPCA, MFPCA\n",
    "from FDApy.local_polynomial import LocalPolynomial"
   ]
  },
  {
   "cell_type": "code",
   "execution_count": 2,
   "metadata": {},
   "outputs": [],
   "source": [
    "# Load the data into a Pandas Dataframes\n",
    "precipitation = pd.read_csv(''.join([CURRENT_DIR, '/canadian_precipitation_monthly.csv']), index_col=0)\n",
    "temperature = pd.read_csv(''.join([CURRENT_DIR, '/canadian_temperature_daily.csv']), index_col=0)"
   ]
  },
  {
   "cell_type": "code",
   "execution_count": 3,
   "metadata": {
    "scrolled": true
   },
   "outputs": [
    {
     "name": "stdout",
     "output_type": "stream",
     "text": [
      "argvals is converted into one dimensional list!\n"
     ]
    }
   ],
   "source": [
    "# Create univariate functional data for the precipitation data\n",
    "argvals = tuple(pd.factorize(precipitation.columns)[0])\n",
    "values = np.array(precipitation)\n",
    "monthlyPrec = UnivariateFunctionalData(argvals, values)"
   ]
  },
  {
   "cell_type": "code",
   "execution_count": 4,
   "metadata": {
    "scrolled": true
   },
   "outputs": [
    {
     "name": "stdout",
     "output_type": "stream",
     "text": [
      "argvals is converted into one dimensional list!\n"
     ]
    }
   ],
   "source": [
    "# Create univariate functional data for the daily temperature data.\n",
    "argvals = tuple(pd.factorize(temperature.columns)[0])\n",
    "values = np.array(temperature)\n",
    "dailyTemp = UnivariateFunctionalData(argvals, values)"
   ]
  },
  {
   "cell_type": "code",
   "execution_count": 5,
   "metadata": {},
   "outputs": [],
   "source": [
    "# Create multivariate functional data for the Canadian weather data.\n",
    "canadWeather = MultivariateFunctionalData([dailyTemp, monthlyPrec])"
   ]
  },
  {
   "cell_type": "code",
   "execution_count": 6,
   "metadata": {},
   "outputs": [
    {
     "data": {
      "text/plain": [
       "Univariate Functional data objects with 35 observations of 1-dimensional support\n",
       "argvals:\n",
       "\t0, 1, ... , 364\t(365 sampling points)\n",
       "values:\n",
       "\tarray of size (35, 365)"
      ]
     },
     "execution_count": 6,
     "metadata": {},
     "output_type": "execute_result"
    }
   ],
   "source": [
    "# Print example of a UnivariateFunctionalData\n",
    "dailyTemp"
   ]
  },
  {
   "cell_type": "code",
   "execution_count": 7,
   "metadata": {},
   "outputs": [
    {
     "data": {
      "text/plain": [
       "Multivariate Functional data objects with 2 funtions:\n",
       "- Univariate Functional data objects with 35 observations of 1-dimensional support\n",
       "argvals:\n",
       "\t0, 1, ... , 364\t(365 sampling points)\n",
       "values:\n",
       "\tarray of size (35, 365)\n",
       "- Univariate Functional data objects with 35 observations of 1-dimensional support\n",
       "argvals:\n",
       "\t0, 1, ... , 11\t(12 sampling points)\n",
       "values:\n",
       "\tarray of size (35, 12)"
      ]
     },
     "execution_count": 7,
     "metadata": {},
     "output_type": "execute_result"
    }
   ],
   "source": [
    "# Print example of a MultivariateFunctionalData\n",
    "canadWeather"
   ]
  },
  {
   "cell_type": "code",
   "execution_count": 8,
   "metadata": {},
   "outputs": [
    {
     "data": {
      "text/plain": [
       "[(0, 1, 2, 3, 4, 5, 6, 7, 8, 9, 10, 11)]"
      ]
     },
     "execution_count": 8,
     "metadata": {},
     "output_type": "execute_result"
    }
   ],
   "source": [
    "# Accessing the attribut of the classes\n",
    "monthlyPrec.argvals"
   ]
  },
  {
   "cell_type": "code",
   "execution_count": 9,
   "metadata": {},
   "outputs": [
    {
     "data": {
      "text/plain": [
       "35"
      ]
     },
     "execution_count": 9,
     "metadata": {},
     "output_type": "execute_result"
    }
   ],
   "source": [
    "# Number of observations for an object\n",
    "monthlyPrec.nObs()"
   ]
  },
  {
   "cell_type": "code",
   "execution_count": 10,
   "metadata": {},
   "outputs": [
    {
     "data": {
      "text/plain": [
       "[[365], [12]]"
      ]
     },
     "execution_count": 10,
     "metadata": {},
     "output_type": "execute_result"
    }
   ],
   "source": [
    "# Number of sampling points for an object\n",
    "canadWeather.nObsPoint()"
   ]
  },
  {
   "cell_type": "code",
   "execution_count": 11,
   "metadata": {},
   "outputs": [
    {
     "data": {
      "text/plain": [
       "1"
      ]
     },
     "execution_count": 11,
     "metadata": {},
     "output_type": "execute_result"
    }
   ],
   "source": [
    "# Dimension of the domain of observations\n",
    "dailyTemp.dimension()"
   ]
  },
  {
   "cell_type": "code",
   "execution_count": 12,
   "metadata": {},
   "outputs": [
    {
     "data": {
      "text/plain": [
       "Univariate Functional data objects with 3 observations of 1-dimensional support\n",
       "argvals:\n",
       "\t0, 1, ... , 364\t(365 sampling points)\n",
       "values:\n",
       "\tarray of size (3, 365)"
      ]
     },
     "execution_count": 12,
     "metadata": {},
     "output_type": "execute_result"
    }
   ],
   "source": [
    "# Extract observations from UnivariateFunctionalData\n",
    "dailyTemp[3:6]"
   ]
  },
  {
   "cell_type": "code",
   "execution_count": 13,
   "metadata": {},
   "outputs": [
    {
     "name": "stdout",
     "output_type": "stream",
     "text": [
      "Convert data into one dimensional list.\n"
     ]
    },
    {
     "data": {
      "text/plain": [
       "Multivariate Functional data objects with 1 funtions:\n",
       "- Univariate Functional data objects with 35 observations of 1-dimensional support\n",
       "argvals:\n",
       "\t0, 1, ... , 364\t(365 sampling points)\n",
       "values:\n",
       "\tarray of size (35, 365)"
      ]
     },
     "execution_count": 13,
     "metadata": {},
     "output_type": "execute_result"
    }
   ],
   "source": [
    "# Extract functions from MultivariateFunctionalData\n",
    "canadWeather[0]"
   ]
  },
  {
   "cell_type": "code",
   "execution_count": 14,
   "metadata": {},
   "outputs": [
    {
     "data": {
      "text/plain": [
       "Irregular Functional data objects with 35 observations of 1-dimensional support\n",
       "argvals:\n",
       "\tValues in 0 ... 364.\n",
       "values:\n",
       "\tValues in -34.8 ... 22.8.\n",
       "There are 365 - 365 sampling points per observation."
      ]
     },
     "execution_count": 14,
     "metadata": {},
     "output_type": "execute_result"
    }
   ],
   "source": [
    "# Convert UnivariateFunctionalData into IrregularFunctionalData.\n",
    "dailyTemp.asIrregularFunctionalData()"
   ]
  },
  {
   "cell_type": "code",
   "execution_count": 15,
   "metadata": {},
   "outputs": [
    {
     "data": {
      "text/plain": [
       "Multivariate Functional data objects with 1 funtions:\n",
       "- Univariate Functional data objects with 35 observations of 1-dimensional support\n",
       "argvals:\n",
       "\t0, 1, ... , 11\t(12 sampling points)\n",
       "values:\n",
       "\tarray of size (35, 12)"
      ]
     },
     "execution_count": 15,
     "metadata": {},
     "output_type": "execute_result"
    }
   ],
   "source": [
    "# Convert UnivariateFunctionalData into MultivariateFunctionalData.\n",
    "monthlyPrec.asMultivariateFunctionalData()"
   ]
  },
  {
   "cell_type": "code",
   "execution_count": 16,
   "metadata": {},
   "outputs": [],
   "source": [
    "# Add another function to a MultivariateFunctionalData\n",
    "#canadWeather.add(dailyTemp)"
   ]
  },
  {
   "cell_type": "code",
   "execution_count": 17,
   "metadata": {},
   "outputs": [
    {
     "data": {
      "text/plain": [
       "<FDApy.fpca.UFPCA at 0x7fa09b117ef0>"
      ]
     },
     "execution_count": 17,
     "metadata": {},
     "output_type": "execute_result"
    }
   ],
   "source": [
    "# Perform a FPCA.\n",
    "fpca = UFPCA(n_components=0.99)\n",
    "fpca.fit(dailyTemp)"
   ]
  },
  {
   "cell_type": "code",
   "execution_count": 18,
   "metadata": {
    "scrolled": true
   },
   "outputs": [],
   "source": [
    "# Compute the scores of the dailyTemp data into the eigenfunctions basis.\n",
    "dailyTemp_proj = fpca.transform(dailyTemp)"
   ]
  },
  {
   "cell_type": "code",
   "execution_count": 19,
   "metadata": {},
   "outputs": [
    {
     "data": {
      "text/plain": [
       "<FDApy.fpca.MFPCA at 0x7fa09b147080>"
      ]
     },
     "execution_count": 19,
     "metadata": {},
     "output_type": "execute_result"
    }
   ],
   "source": [
    "# Perform multivariate FPCA\n",
    "mfpca = MFPCA(n_components=0.99)\n",
    "mfpca.fit(canadWeather)"
   ]
  },
  {
   "cell_type": "code",
   "execution_count": 20,
   "metadata": {},
   "outputs": [],
   "source": [
    "# Smooth the data\n",
    "#points = tuple(i / 10 for i in range(min(dailyTemp.argvals[0]), 10*(max(dailyTemp.argvals[0]) + 1), 1))\n",
    "#dailyTempSmooth = dailyTemp.smooth(points, bandwith=5)"
   ]
  }
 ],
 "metadata": {
  "kernelspec": {
   "display_name": "Python 3",
   "language": "python",
   "name": "python3"
  },
  "language_info": {
   "codemirror_mode": {
    "name": "ipython",
    "version": 3
   },
   "file_extension": ".py",
   "mimetype": "text/x-python",
   "name": "python",
   "nbconvert_exporter": "python",
   "pygments_lexer": "ipython3",
   "version": "3.7.0"
  }
 },
 "nbformat": 4,
 "nbformat_minor": 2
}
